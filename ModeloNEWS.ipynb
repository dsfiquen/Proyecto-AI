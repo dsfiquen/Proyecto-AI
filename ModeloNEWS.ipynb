{
  "nbformat": 4,
  "nbformat_minor": 0,
  "metadata": {
    "colab": {
      "name": "ModeloNEWS.ipynb",
      "provenance": []
    },
    "kernelspec": {
      "name": "python3",
      "display_name": "Python 3"
    },
    "language_info": {
      "name": "python"
    }
  },
  "cells": [
    {
      "cell_type": "markdown",
      "metadata": {
        "id": "IzaQpHf-e1rg"
      },
      "source": [
        "## **I. IMPORTAR LIBRERIAS Y DATASET**\n",
        "\n",
        "---"
      ]
    },
    {
      "cell_type": "code",
      "metadata": {
        "id": "VqSDEW9pwedS",
        "colab": {
          "base_uri": "https://localhost:8080/"
        },
        "outputId": "9c61a134-fc7f-4b43-f963-ceae63c87743"
      },
      "source": [
        "import pandas as pd\n",
        "import nltk\n",
        "nltk.download('punkt')"
      ],
      "execution_count": null,
      "outputs": [
        {
          "output_type": "stream",
          "text": [
            "[nltk_data] Downloading package punkt to /root/nltk_data...\n",
            "[nltk_data]   Unzipping tokenizers/punkt.zip.\n"
          ],
          "name": "stdout"
        },
        {
          "output_type": "execute_result",
          "data": {
            "text/plain": [
              "True"
            ]
          },
          "metadata": {
            "tags": []
          },
          "execution_count": 2
        }
      ]
    },
    {
      "cell_type": "code",
      "metadata": {
        "colab": {
          "base_uri": "https://localhost:8080/"
        },
        "id": "LI-EtFdpAYj8",
        "outputId": "38cef7ee-1daf-4147-d362-cbfaff8fe0df"
      },
      "source": [
        "from google.colab import drive\n",
        "drive.mount('/content/gdrive')"
      ],
      "execution_count": null,
      "outputs": [
        {
          "output_type": "stream",
          "text": [
            "Mounted at /content/gdrive\n"
          ],
          "name": "stdout"
        }
      ]
    },
    {
      "cell_type": "code",
      "metadata": {
        "id": "DMo5s6oHeAmX"
      },
      "source": [
        "fake= pd.read_csv(\"gdrive/MyDrive/DATA/FAKENEWS/Fake.csv\", engine='python')\n",
        "true= pd.read_csv(\"gdrive/MyDrive/DATA/FAKENEWS/True.csv\", engine='python')"
      ],
      "execution_count": null,
      "outputs": []
    },
    {
      "cell_type": "markdown",
      "metadata": {
        "id": "mo4QKtRQfHvl"
      },
      "source": [
        "## **II. DESPLEGAR INFORMACION DATASET**\n",
        "\n",
        "---"
      ]
    },
    {
      "cell_type": "code",
      "metadata": {
        "colab": {
          "base_uri": "https://localhost:8080/"
        },
        "id": "KVzjGV1Fe0xz",
        "outputId": "2f5cf57e-6304-4e57-83a6-50de37123727"
      },
      "source": [
        "fake.info()\n",
        "print(\"\\n\")\n",
        "print(\"Database size:\",fake.shape)"
      ],
      "execution_count": null,
      "outputs": [
        {
          "output_type": "stream",
          "text": [
            "<class 'pandas.core.frame.DataFrame'>\n",
            "RangeIndex: 23481 entries, 0 to 23480\n",
            "Data columns (total 4 columns):\n",
            " #   Column   Non-Null Count  Dtype \n",
            "---  ------   --------------  ----- \n",
            " 0   title    23481 non-null  object\n",
            " 1   text     23481 non-null  object\n",
            " 2   subject  23481 non-null  object\n",
            " 3   date     23481 non-null  object\n",
            "dtypes: object(4)\n",
            "memory usage: 733.9+ KB\n",
            "\n",
            "\n",
            "Database size: (23481, 4)\n"
          ],
          "name": "stdout"
        }
      ]
    },
    {
      "cell_type": "code",
      "metadata": {
        "colab": {
          "base_uri": "https://localhost:8080/"
        },
        "id": "YHNjBXJVfUtr",
        "outputId": "ab049031-89f2-47b0-cb78-7453700cb1f0"
      },
      "source": [
        "true.info()\n",
        "print(\"\\n\")\n",
        "print(\"Database size:\",true.shape)"
      ],
      "execution_count": null,
      "outputs": [
        {
          "output_type": "stream",
          "text": [
            "<class 'pandas.core.frame.DataFrame'>\n",
            "RangeIndex: 21417 entries, 0 to 21416\n",
            "Data columns (total 4 columns):\n",
            " #   Column   Non-Null Count  Dtype \n",
            "---  ------   --------------  ----- \n",
            " 0   title    21417 non-null  object\n",
            " 1   text     21417 non-null  object\n",
            " 2   subject  21417 non-null  object\n",
            " 3   date     21417 non-null  object\n",
            "dtypes: object(4)\n",
            "memory usage: 669.4+ KB\n",
            "\n",
            "\n",
            "Database size: (21417, 4)\n"
          ],
          "name": "stdout"
        }
      ]
    },
    {
      "cell_type": "code",
      "metadata": {
        "colab": {
          "base_uri": "https://localhost:8080/"
        },
        "id": "BaGXFRwCVKC5",
        "outputId": "d2057350-c951-4612-c613-3c0689f0ae54"
      },
      "source": [
        "true['subject'].unique()"
      ],
      "execution_count": null,
      "outputs": [
        {
          "output_type": "execute_result",
          "data": {
            "text/plain": [
              "array(['politicsNews', 'worldnews'], dtype=object)"
            ]
          },
          "metadata": {
            "tags": []
          },
          "execution_count": 5
        }
      ]
    },
    {
      "cell_type": "code",
      "metadata": {
        "id": "75O71HNpfbyZ",
        "colab": {
          "base_uri": "https://localhost:8080/"
        },
        "outputId": "2c791af1-8259-4c51-bac9-7551e1227d9e"
      },
      "source": [
        "fake['subject'].unique()"
      ],
      "execution_count": null,
      "outputs": [
        {
          "output_type": "execute_result",
          "data": {
            "text/plain": [
              "array(['News', 'politics', 'Government News', 'left-news', 'US_News',\n",
              "       'Middle-east'], dtype=object)"
            ]
          },
          "metadata": {
            "tags": []
          },
          "execution_count": 6
        }
      ]
    },
    {
      "cell_type": "markdown",
      "metadata": {
        "id": "TalIbY2bwlDA"
      },
      "source": [
        "# **III. TRABAJO**\n",
        "\n",
        "---"
      ]
    },
    {
      "cell_type": "markdown",
      "metadata": {
        "id": "FqTtkdNcv8MQ"
      },
      "source": [
        "Inicialmente para el análisis del texto, aplicaré el [Test de Flesch Kincaid](https://en.wikipedia.org/wiki/Flesch%E2%80%93Kincaid_readability_tests) como primer criterio estilométrico.\n"
      ]
    },
    {
      "cell_type": "code",
      "metadata": {
        "id": "-aL6UshEuZ1u"
      },
      "source": [
        "topicos=[]\n",
        "lista=[]\n",
        "if (fake['subject'] in topicos):\n",
        "  topicos.append\n",
        "else:\n",
        "  lista.append"
      ],
      "execution_count": null,
      "outputs": []
    },
    {
      "cell_type": "markdown",
      "metadata": {
        "id": "RZaT5bDnp0xq"
      },
      "source": [
        "## **SPLIT - PRUEBA-**"
      ]
    },
    {
      "cell_type": "code",
      "metadata": {
        "id": "el9TNf2zmviC"
      },
      "source": [
        "pruebafake=fake.text[0]\n",
        "pruebareal=true.text[0]"
      ],
      "execution_count": null,
      "outputs": []
    },
    {
      "cell_type": "code",
      "metadata": {
        "id": "SHYEGGeRoP4R"
      },
      "source": [
        "#pruebafake.split(\".\" )\n",
        "lines_article=pruebafake.split(\"\\n\")"
      ],
      "execution_count": null,
      "outputs": []
    },
    {
      "cell_type": "code",
      "metadata": {
        "colab": {
          "base_uri": "https://localhost:8080/"
        },
        "id": "y7Ho3Fp45xaT",
        "outputId": "8e371400-4ef3-4878-d274-aa90bdb074e0"
      },
      "source": [
        "lines_article"
      ],
      "execution_count": null,
      "outputs": [
        {
          "output_type": "execute_result",
          "data": {
            "text/plain": [
              "['Donald Trump just couldn t wish all Americans a Happy New Year and leave it at that. Instead, he had to give a shout out to his enemies, haters and  the very dishonest fake news media.  The former reality show star had just one job to do and he couldn t do it. As our Country rapidly grows stronger and smarter, I want to wish all of my friends, supporters, enemies, haters, and even the very dishonest Fake News Media, a Happy and Healthy New Year,  President Angry Pants tweeted.  2018 will be a great year for America! As our Country rapidly grows stronger and smarter, I want to wish all of my friends, supporters, enemies, haters, and even the very dishonest Fake News Media, a Happy and Healthy New Year. 2018 will be a great year for America!  Donald J. Trump (@realDonaldTrump) December 31, 2017Trump s tweet went down about as welll as you d expect.What kind of president sends a New Year s greeting like this despicable, petty, infantile gibberish? Only Trump! His lack of decency won t even allow him to rise above the gutter long enough to wish the American citizens a happy new year!  Bishop Talbert Swan (@TalbertSwan) December 31, 2017no one likes you  Calvin (@calvinstowell) December 31, 2017Your impeachment would make 2018 a great year for America, but I ll also accept regaining control of Congress.  Miranda Yaver (@mirandayaver) December 31, 2017Do you hear yourself talk? When you have to include that many people that hate you you have to wonder? Why do the they all hate me?  Alan Sandoval (@AlanSandoval13) December 31, 2017Who uses the word Haters in a New Years wish??  Marlene (@marlene399) December 31, 2017You can t just say happy new year?  Koren pollitt (@Korencarpenter) December 31, 2017Here s Trump s New Year s Eve tweet from 2016.Happy New Year to all, including to my many enemies and those who have fought me and lost so badly they just don t know what to do. Love!  Donald J. Trump (@realDonaldTrump) December 31, 2016This is nothing new for Trump. He s been doing this for years.Trump has directed messages to his  enemies  and  haters  for New Year s, Easter, Thanksgiving, and the anniversary of 9/11. pic.twitter.com/4FPAe2KypA  Daniel Dale (@ddale8) December 31, 2017Trump s holiday tweets are clearly not presidential.How long did he work at Hallmark before becoming President?  Steven Goodine (@SGoodine) December 31, 2017He s always been like this . . . the only difference is that in the last few years, his filter has been breaking down.  Roy Schulze (@thbthttt) December 31, 2017Who, apart from a teenager uses the term haters?  Wendy (@WendyWhistles) December 31, 2017he s a fucking 5 year old  Who Knows (@rainyday80) December 31, 2017So, to all the people who voted for this a hole thinking he would change once he got into power, you were wrong! 70-year-old men don t change and now he s a year older.Photo by Andrew Burton/Getty Images.']"
            ]
          },
          "metadata": {
            "tags": []
          },
          "execution_count": 59
        }
      ]
    },
    {
      "cell_type": "code",
      "metadata": {
        "id": "1b7nwYzRo4Ku"
      },
      "source": [
        "pruebareal.split(\". \")"
      ],
      "execution_count": null,
      "outputs": []
    },
    {
      "cell_type": "markdown",
      "metadata": {
        "id": "ZJackU5ojr97"
      },
      "source": [
        "## **TOKENIZADO -PRUEBA-**"
      ]
    },
    {
      "cell_type": "code",
      "metadata": {
        "id": "NjvpvO3qjvlu"
      },
      "source": [
        "from nltk.tokenize import word_tokenize\n",
        "from nltk.tokenize import sent_tokenize"
      ],
      "execution_count": null,
      "outputs": []
    },
    {
      "cell_type": "code",
      "metadata": {
        "colab": {
          "base_uri": "https://localhost:8080/"
        },
        "id": "DqGswQ4XQodp",
        "outputId": "8c8600de-d85a-4a40-b46c-0c240e0a2dda"
      },
      "source": [
        "sent_tokenize(pruebareal)"
      ],
      "execution_count": null,
      "outputs": [
        {
          "output_type": "execute_result",
          "data": {
            "text/plain": [
              "['WASHINGTON (Reuters) - The head of a conservative Republican faction in the U.S. Congress, who voted this month for a huge expansion of the national debt to pay for tax cuts, called himself a “fiscal conservative” on Sunday and urged budget restraint in 2018.',\n",
              " 'In keeping with a sharp pivot under way among Republicans, U.S. Representative Mark Meadows, speaking on CBS’ “Face the Nation,” drew a hard line on federal spending, which lawmakers are bracing to do battle over in January.',\n",
              " 'When they return from the holidays on Wednesday, lawmakers will begin trying to pass a federal budget in a fight likely to be linked to other issues, such as immigration policy, even as the November congressional election campaigns approach in which Republicans will seek to keep control of Congress.',\n",
              " 'President Donald Trump and his Republicans want a big budget increase in military spending, while Democrats also want proportional increases for non-defense “discretionary” spending on programs that support education, scientific research, infrastructure, public health and environmental protection.',\n",
              " '“The (Trump) administration has already been willing to say: ‘We’re going to increase non-defense discretionary spending ... by about 7 percent,’” Meadows, chairman of the small but influential House Freedom Caucus, said on the program.',\n",
              " '“Now, Democrats are saying that’s not enough, we need to give the government a pay raise of 10 to 11 percent.',\n",
              " 'For a fiscal conservative, I don’t see where the rationale is.',\n",
              " '...',\n",
              " 'Eventually you run out of other people’s money,” he said.',\n",
              " 'Meadows was among Republicans who voted in late December for their party’s debt-financed tax overhaul, which is expected to balloon the federal budget deficit and add about $1.5 trillion over 10 years to the $20 trillion national debt.',\n",
              " '“It’s interesting to hear Mark talk about fiscal responsibility,” Democratic U.S. Representative Joseph Crowley said on CBS.',\n",
              " 'Crowley said the Republican tax bill would require the  United States to borrow $1.5 trillion, to be paid off by future generations, to finance tax cuts for corporations and the rich.',\n",
              " '“This is one of the least ... fiscally responsible bills we’ve ever seen passed in the history of the House of Representatives.',\n",
              " 'I think we’re going to be paying for this for many, many years to come,” Crowley said.',\n",
              " 'Republicans insist the tax package, the biggest U.S. tax overhaul in more than 30 years,  will boost the economy and job growth.',\n",
              " 'House Speaker Paul Ryan, who also supported the tax bill, recently went further than Meadows, making clear in a radio interview that welfare or “entitlement reform,” as the party often calls it, would be a top Republican priority in 2018.',\n",
              " 'In Republican parlance, “entitlement” programs mean food stamps, housing assistance, Medicare and Medicaid health insurance for the elderly, poor and disabled, as well as other programs created by Washington to assist the needy.',\n",
              " 'Democrats seized on Ryan’s early December remarks, saying they showed Republicans would try to pay for their tax overhaul by seeking spending cuts for social programs.',\n",
              " 'But the goals of House Republicans may have to take a back seat to the Senate, where the votes of some Democrats will be needed to approve a budget and prevent a government shutdown.',\n",
              " 'Democrats will use their leverage in the Senate, which Republicans narrowly control, to defend both discretionary non-defense programs and social spending, while tackling the issue of the “Dreamers,” people brought illegally to the country as children.',\n",
              " 'Trump in September put a March 2018 expiration date on the Deferred Action for Childhood Arrivals, or DACA, program, which protects the young immigrants from deportation and provides them with work permits.',\n",
              " 'The president has said in recent Twitter messages he wants funding for his proposed Mexican border wall and other immigration law changes in exchange for agreeing to help the Dreamers.',\n",
              " 'Representative Debbie Dingell told CBS she did not favor linking that issue to other policy objectives, such as wall funding.',\n",
              " '“We need to do DACA clean,” she said.',\n",
              " 'On Wednesday, Trump aides will meet with congressional leaders to discuss those issues.',\n",
              " 'That will be followed by a weekend of strategy sessions for Trump and Republican leaders on Jan. 6 and 7, the White House said.',\n",
              " 'Trump was also scheduled to meet on Sunday with Florida Republican Governor Rick Scott, who wants more emergency aid.',\n",
              " 'The House has passed an $81 billion aid package after hurricanes in Florida, Texas and Puerto Rico, and wildfires in California.',\n",
              " 'The package far exceeded the $44 billion requested by the Trump administration.',\n",
              " 'The Senate has not yet voted on the aid.']"
            ]
          },
          "metadata": {
            "tags": []
          },
          "execution_count": 60
        }
      ]
    },
    {
      "cell_type": "code",
      "metadata": {
        "colab": {
          "base_uri": "https://localhost:8080/"
        },
        "id": "SY1arBSErrV9",
        "outputId": "283609f3-5acd-4b5d-d303-12432fe676cc"
      },
      "source": [
        "sent_tokenize(pruebafake)"
      ],
      "execution_count": null,
      "outputs": [
        {
          "output_type": "execute_result",
          "data": {
            "text/plain": [
              "['Donald Trump just couldn t wish all Americans a Happy New Year and leave it at that.',\n",
              " 'Instead, he had to give a shout out to his enemies, haters and  the very dishonest fake news media.',\n",
              " 'The former reality show star had just one job to do and he couldn t do it.',\n",
              " 'As our Country rapidly grows stronger and smarter, I want to wish all of my friends, supporters, enemies, haters, and even the very dishonest Fake News Media, a Happy and Healthy New Year,  President Angry Pants tweeted.',\n",
              " '2018 will be a great year for America!',\n",
              " 'As our Country rapidly grows stronger and smarter, I want to wish all of my friends, supporters, enemies, haters, and even the very dishonest Fake News Media, a Happy and Healthy New Year.',\n",
              " '2018 will be a great year for America!',\n",
              " 'Donald J. Trump (@realDonaldTrump) December 31, 2017Trump s tweet went down about as welll as you d expect.What kind of president sends a New Year s greeting like this despicable, petty, infantile gibberish?',\n",
              " 'Only Trump!',\n",
              " 'His lack of decency won t even allow him to rise above the gutter long enough to wish the American citizens a happy new year!',\n",
              " 'Bishop Talbert Swan (@TalbertSwan) December 31, 2017no one likes you  Calvin (@calvinstowell) December 31, 2017Your impeachment would make 2018 a great year for America, but I ll also accept regaining control of Congress.',\n",
              " 'Miranda Yaver (@mirandayaver) December 31, 2017Do you hear yourself talk?',\n",
              " 'When you have to include that many people that hate you you have to wonder?',\n",
              " 'Why do the they all hate me?',\n",
              " 'Alan Sandoval (@AlanSandoval13) December 31, 2017Who uses the word Haters in a New Years wish??',\n",
              " 'Marlene (@marlene399) December 31, 2017You can t just say happy new year?',\n",
              " 'Koren pollitt (@Korencarpenter) December 31, 2017Here s Trump s New Year s Eve tweet from 2016.Happy New Year to all, including to my many enemies and those who have fought me and lost so badly they just don t know what to do.',\n",
              " 'Love!',\n",
              " 'Donald J. Trump (@realDonaldTrump) December 31, 2016This is nothing new for Trump.',\n",
              " 'He s been doing this for years.Trump has directed messages to his  enemies  and  haters  for New Year s, Easter, Thanksgiving, and the anniversary of 9/11.',\n",
              " 'pic.twitter.com/4FPAe2KypA  Daniel Dale (@ddale8) December 31, 2017Trump s holiday tweets are clearly not presidential.How long did he work at Hallmark before becoming President?',\n",
              " 'Steven Goodine (@SGoodine) December 31, 2017He s always been like this .',\n",
              " '.',\n",
              " '.',\n",
              " 'the only difference is that in the last few years, his filter has been breaking down.',\n",
              " 'Roy Schulze (@thbthttt) December 31, 2017Who, apart from a teenager uses the term haters?',\n",
              " 'Wendy (@WendyWhistles) December 31, 2017he s a fucking 5 year old  Who Knows (@rainyday80) December 31, 2017So, to all the people who voted for this a hole thinking he would change once he got into power, you were wrong!',\n",
              " '70-year-old men don t change and now he s a year older.Photo by Andrew Burton/Getty Images.']"
            ]
          },
          "metadata": {
            "tags": []
          },
          "execution_count": 50
        }
      ]
    },
    {
      "cell_type": "code",
      "metadata": {
        "colab": {
          "base_uri": "https://localhost:8080/"
        },
        "id": "qvQp5cPRweoC",
        "outputId": "6b953f73-a3c4-43ba-dfea-ef42753a45c3"
      },
      "source": [
        "print(len(oraciones))"
      ],
      "execution_count": null,
      "outputs": [
        {
          "output_type": "stream",
          "text": [
            "28\n"
          ],
          "name": "stdout"
        }
      ]
    },
    {
      "cell_type": "code",
      "metadata": {
        "id": "IkNaLWCayENC"
      },
      "source": [
        "palabras=word_tokenize(pruebafake)"
      ],
      "execution_count": null,
      "outputs": []
    },
    {
      "cell_type": "code",
      "metadata": {
        "colab": {
          "base_uri": "https://localhost:8080/"
        },
        "id": "TRzzKQGgyTIl",
        "outputId": "64f82b67-255e-4951-c82e-3045a3843057"
      },
      "source": [
        "print(len(palabras))"
      ],
      "execution_count": null,
      "outputs": [
        {
          "output_type": "stream",
          "text": [
            "599\n"
          ],
          "name": "stdout"
        }
      ]
    },
    {
      "cell_type": "code",
      "metadata": {
        "id": "Ts82GlIP2ncl"
      },
      "source": [
        ""
      ],
      "execution_count": null,
      "outputs": []
    }
  ]
}