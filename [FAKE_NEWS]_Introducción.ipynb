{
  "nbformat": 4,
  "nbformat_minor": 0,
  "metadata": {
    "colab": {
      "name": "[FAKE NEWS] Introducción.ipynb",
      "provenance": []
    },
    "kernelspec": {
      "name": "python3",
      "display_name": "Python 3"
    },
    "language_info": {
      "name": "python"
    }
  },
  "cells": [
    {
      "cell_type": "markdown",
      "metadata": {
        "id": "EBosWOsJwXHP"
      },
      "source": [
        "\n",
        "#**DETECCIÓN DE FAKE NEWS CON RNN (LSTM)**\n",
        "\n",
        "> Daniel Santiago Fique N. <br>\n",
        "Diplomado en Inteligencia Artificial y Aprendizaje Profundo <br>\n",
        "Universidad Nacional de Colombia [2021 - I]\n",
        "\n",
        "![PORTADA FAKE](https://www.esan.edu.pe/conexion/actualidad/2019/11/18/1500x844_fake_news.jpg)\n"
      ]
    },
    {
      "cell_type": "markdown",
      "metadata": {
        "id": "DjanCMhKgAfx"
      },
      "source": [
        "## Qué son las *Fake News*?\n",
        "\n"
      ]
    },
    {
      "cell_type": "markdown",
      "metadata": {
        "id": "lqwQscFChqiL"
      },
      "source": [
        "![alksd](https://shorthand-social.imgix.net/prod/story/3ymHkVd9bx/media/8392fe80a5c111e89a9e03b8c5d6e45e/original.jpg?w=1500&h=1500&fit=clip&fm=jpg&q=75)\n"
      ]
    },
    {
      "cell_type": "markdown",
      "metadata": {
        "id": "-kIqkE-kqvzg"
      },
      "source": [
        "## [DATASET](https://www.kaggle.com/clmentbisaillon/fake-and-real-news-dataset) : 2016 US Presidential Election Articles "
      ]
    },
    {
      "cell_type": "markdown",
      "metadata": {
        "id": "jQrm1Pwgrx5-"
      },
      "source": [
        "![Encabezado](https://img.buzzfeed.com/buzzfeed-static/static/2016-11/2/15/asset/buzzfeed-prod-web06/sub-buzz-8001-1478115629-1.jpg?output-quality=auto&output-format=auto&downsize=640:*)\n",
        "\n",
        "\n"
      ]
    },
    {
      "cell_type": "markdown",
      "metadata": {
        "id": "IzaQpHf-e1rg"
      },
      "source": [
        "## **I. IMPORTAR LIBRERIAS Y DATASET**\n",
        "\n",
        "---"
      ]
    },
    {
      "cell_type": "code",
      "metadata": {
        "id": "VqSDEW9pwedS",
        "colab": {
          "base_uri": "https://localhost:8080/"
        },
        "outputId": "0a4c7e46-8e1b-4e44-8f02-9df8ceaaa8fe"
      },
      "source": [
        "import pandas as pd\n",
        "import nltk\n",
        "nltk.download('punkt')"
      ],
      "execution_count": null,
      "outputs": [
        {
          "output_type": "stream",
          "text": [
            "[nltk_data] Downloading package punkt to /root/nltk_data...\n",
            "[nltk_data]   Unzipping tokenizers/punkt.zip.\n"
          ],
          "name": "stdout"
        },
        {
          "output_type": "execute_result",
          "data": {
            "text/plain": [
              "True"
            ]
          },
          "metadata": {
            "tags": []
          },
          "execution_count": 3
        }
      ]
    },
    {
      "cell_type": "code",
      "metadata": {
        "colab": {
          "base_uri": "https://localhost:8080/"
        },
        "id": "LI-EtFdpAYj8",
        "outputId": "16af8399-af45-45f1-c8b4-260730b6954f"
      },
      "source": [
        "from google.colab import drive\n",
        "drive.mount('/content/gdrive')"
      ],
      "execution_count": null,
      "outputs": [
        {
          "output_type": "stream",
          "text": [
            "Mounted at /content/gdrive\n"
          ],
          "name": "stdout"
        }
      ]
    },
    {
      "cell_type": "code",
      "metadata": {
        "id": "DMo5s6oHeAmX"
      },
      "source": [
        "fake= pd.read_csv(\"gdrive/MyDrive/DATA/FAKENEWS/Fake.csv\", engine='python')\n",
        "true= pd.read_csv(\"gdrive/MyDrive/DATA/FAKENEWS/True.csv\", engine='python')"
      ],
      "execution_count": null,
      "outputs": []
    },
    {
      "cell_type": "markdown",
      "metadata": {
        "id": "mo4QKtRQfHvl"
      },
      "source": [
        "## **II. DESPLEGAR INFORMACION DATASET**\n",
        "\n",
        "---"
      ]
    },
    {
      "cell_type": "code",
      "metadata": {
        "colab": {
          "base_uri": "https://localhost:8080/"
        },
        "id": "KVzjGV1Fe0xz",
        "outputId": "2f5cf57e-6304-4e57-83a6-50de37123727"
      },
      "source": [
        "fake.info()\n",
        "print(\"\\n\")\n",
        "print(\"Database size:\",fake.shape)"
      ],
      "execution_count": null,
      "outputs": [
        {
          "output_type": "stream",
          "text": [
            "<class 'pandas.core.frame.DataFrame'>\n",
            "RangeIndex: 23481 entries, 0 to 23480\n",
            "Data columns (total 4 columns):\n",
            " #   Column   Non-Null Count  Dtype \n",
            "---  ------   --------------  ----- \n",
            " 0   title    23481 non-null  object\n",
            " 1   text     23481 non-null  object\n",
            " 2   subject  23481 non-null  object\n",
            " 3   date     23481 non-null  object\n",
            "dtypes: object(4)\n",
            "memory usage: 733.9+ KB\n",
            "\n",
            "\n",
            "Database size: (23481, 4)\n"
          ],
          "name": "stdout"
        }
      ]
    },
    {
      "cell_type": "code",
      "metadata": {
        "colab": {
          "base_uri": "https://localhost:8080/"
        },
        "id": "YHNjBXJVfUtr",
        "outputId": "ab049031-89f2-47b0-cb78-7453700cb1f0"
      },
      "source": [
        "true.info()\n",
        "print(\"\\n\")\n",
        "print(\"Database size:\",true.shape)"
      ],
      "execution_count": null,
      "outputs": [
        {
          "output_type": "stream",
          "text": [
            "<class 'pandas.core.frame.DataFrame'>\n",
            "RangeIndex: 21417 entries, 0 to 21416\n",
            "Data columns (total 4 columns):\n",
            " #   Column   Non-Null Count  Dtype \n",
            "---  ------   --------------  ----- \n",
            " 0   title    21417 non-null  object\n",
            " 1   text     21417 non-null  object\n",
            " 2   subject  21417 non-null  object\n",
            " 3   date     21417 non-null  object\n",
            "dtypes: object(4)\n",
            "memory usage: 669.4+ KB\n",
            "\n",
            "\n",
            "Database size: (21417, 4)\n"
          ],
          "name": "stdout"
        }
      ]
    },
    {
      "cell_type": "code",
      "metadata": {
        "colab": {
          "base_uri": "https://localhost:8080/"
        },
        "id": "BaGXFRwCVKC5",
        "outputId": "d2057350-c951-4612-c613-3c0689f0ae54"
      },
      "source": [
        "true['subject'].unique()"
      ],
      "execution_count": null,
      "outputs": [
        {
          "output_type": "execute_result",
          "data": {
            "text/plain": [
              "array(['politicsNews', 'worldnews'], dtype=object)"
            ]
          },
          "metadata": {
            "tags": []
          },
          "execution_count": 5
        }
      ]
    },
    {
      "cell_type": "code",
      "metadata": {
        "id": "75O71HNpfbyZ",
        "colab": {
          "base_uri": "https://localhost:8080/"
        },
        "outputId": "2c791af1-8259-4c51-bac9-7551e1227d9e"
      },
      "source": [
        "fake['subject'].unique()"
      ],
      "execution_count": null,
      "outputs": [
        {
          "output_type": "execute_result",
          "data": {
            "text/plain": [
              "array(['News', 'politics', 'Government News', 'left-news', 'US_News',\n",
              "       'Middle-east'], dtype=object)"
            ]
          },
          "metadata": {
            "tags": []
          },
          "execution_count": 6
        }
      ]
    },
    {
      "cell_type": "markdown",
      "metadata": {
        "id": "TalIbY2bwlDA"
      },
      "source": [
        "# **III. TRABAJO**\n",
        "\n",
        "---"
      ]
    },
    {
      "cell_type": "markdown",
      "metadata": {
        "id": "FqTtkdNcv8MQ"
      },
      "source": [
        "[Test de Flesch Kincaid](https://en.wikipedia.org/wiki/Flesch%E2%80%93Kincaid_readability_tests) como primer criterio estilométrico.\n"
      ]
    },
    {
      "cell_type": "code",
      "metadata": {
        "id": "-aL6UshEuZ1u"
      },
      "source": [
        "topicos=[]\n",
        "lista=[]\n",
        "if (fake['subject'] in topicos):\n",
        "  topicos.append\n",
        "else:\n",
        "  lista.append"
      ],
      "execution_count": null,
      "outputs": []
    },
    {
      "cell_type": "markdown",
      "metadata": {
        "id": "RZaT5bDnp0xq"
      },
      "source": [
        "## **SPLIT - PRUEBA-**"
      ]
    },
    {
      "cell_type": "code",
      "metadata": {
        "id": "el9TNf2zmviC"
      },
      "source": [
        "pruebafake=fake.text[0]\n",
        "pruebareal=true.text[0]"
      ],
      "execution_count": null,
      "outputs": []
    },
    {
      "cell_type": "code",
      "metadata": {
        "id": "SHYEGGeRoP4R"
      },
      "source": [
        "#pruebafake.split(\".\" )\n",
        "lines_article=pruebafake.split(\"\\n\")"
      ],
      "execution_count": null,
      "outputs": []
    },
    {
      "cell_type": "code",
      "metadata": {
        "colab": {
          "base_uri": "https://localhost:8080/"
        },
        "id": "y7Ho3Fp45xaT",
        "outputId": "4eed1c8e-eff4-43eb-abbb-e56be1576e33"
      },
      "source": [
        "lines_article"
      ],
      "execution_count": null,
      "outputs": [
        {
          "output_type": "execute_result",
          "data": {
            "text/plain": [
              "['Donald Trump just couldn t wish all Americans a Happy New Year and leave it at that. Instead, he had to give a shout out to his enemies, haters and  the very dishonest fake news media.  The former reality show star had just one job to do and he couldn t do it. As our Country rapidly grows stronger and smarter, I want to wish all of my friends, supporters, enemies, haters, and even the very dishonest Fake News Media, a Happy and Healthy New Year,  President Angry Pants tweeted.  2018 will be a great year for America! As our Country rapidly grows stronger and smarter, I want to wish all of my friends, supporters, enemies, haters, and even the very dishonest Fake News Media, a Happy and Healthy New Year. 2018 will be a great year for America!  Donald J. Trump (@realDonaldTrump) December 31, 2017Trump s tweet went down about as welll as you d expect.What kind of president sends a New Year s greeting like this despicable, petty, infantile gibberish? Only Trump! His lack of decency won t even allow him to rise above the gutter long enough to wish the American citizens a happy new year!  Bishop Talbert Swan (@TalbertSwan) December 31, 2017no one likes you  Calvin (@calvinstowell) December 31, 2017Your impeachment would make 2018 a great year for America, but I ll also accept regaining control of Congress.  Miranda Yaver (@mirandayaver) December 31, 2017Do you hear yourself talk? When you have to include that many people that hate you you have to wonder? Why do the they all hate me?  Alan Sandoval (@AlanSandoval13) December 31, 2017Who uses the word Haters in a New Years wish??  Marlene (@marlene399) December 31, 2017You can t just say happy new year?  Koren pollitt (@Korencarpenter) December 31, 2017Here s Trump s New Year s Eve tweet from 2016.Happy New Year to all, including to my many enemies and those who have fought me and lost so badly they just don t know what to do. Love!  Donald J. Trump (@realDonaldTrump) December 31, 2016This is nothing new for Trump. He s been doing this for years.Trump has directed messages to his  enemies  and  haters  for New Year s, Easter, Thanksgiving, and the anniversary of 9/11. pic.twitter.com/4FPAe2KypA  Daniel Dale (@ddale8) December 31, 2017Trump s holiday tweets are clearly not presidential.How long did he work at Hallmark before becoming President?  Steven Goodine (@SGoodine) December 31, 2017He s always been like this . . . the only difference is that in the last few years, his filter has been breaking down.  Roy Schulze (@thbthttt) December 31, 2017Who, apart from a teenager uses the term haters?  Wendy (@WendyWhistles) December 31, 2017he s a fucking 5 year old  Who Knows (@rainyday80) December 31, 2017So, to all the people who voted for this a hole thinking he would change once he got into power, you were wrong! 70-year-old men don t change and now he s a year older.Photo by Andrew Burton/Getty Images.']"
            ]
          },
          "metadata": {
            "tags": []
          },
          "execution_count": 9
        }
      ]
    },
    {
      "cell_type": "code",
      "metadata": {
        "id": "1b7nwYzRo4Ku",
        "colab": {
          "base_uri": "https://localhost:8080/"
        },
        "outputId": "3e582066-96ba-4ee9-c6a5-9bdb4eeb77ed"
      },
      "source": [
        "pruebareal.split(\". \")"
      ],
      "execution_count": null,
      "outputs": [
        {
          "output_type": "execute_result",
          "data": {
            "text/plain": [
              "['WASHINGTON (Reuters) - The head of a conservative Republican faction in the U.S',\n",
              " 'Congress, who voted this month for a huge expansion of the national debt to pay for tax cuts, called himself a “fiscal conservative” on Sunday and urged budget restraint in 2018',\n",
              " 'In keeping with a sharp pivot under way among Republicans, U.S',\n",
              " 'Representative Mark Meadows, speaking on CBS’ “Face the Nation,” drew a hard line on federal spending, which lawmakers are bracing to do battle over in January',\n",
              " 'When they return from the holidays on Wednesday, lawmakers will begin trying to pass a federal budget in a fight likely to be linked to other issues, such as immigration policy, even as the November congressional election campaigns approach in which Republicans will seek to keep control of Congress',\n",
              " 'President Donald Trump and his Republicans want a big budget increase in military spending, while Democrats also want proportional increases for non-defense “discretionary” spending on programs that support education, scientific research, infrastructure, public health and environmental protection',\n",
              " '“The (Trump) administration has already been willing to say: ‘We’re going to increase non-defense discretionary spending ..',\n",
              " 'by about 7 percent,’” Meadows, chairman of the small but influential House Freedom Caucus, said on the program',\n",
              " '“Now, Democrats are saying that’s not enough, we need to give the government a pay raise of 10 to 11 percent',\n",
              " 'For a fiscal conservative, I don’t see where the rationale is',\n",
              " '..',\n",
              " 'Eventually you run out of other people’s money,” he said',\n",
              " 'Meadows was among Republicans who voted in late December for their party’s debt-financed tax overhaul, which is expected to balloon the federal budget deficit and add about $1.5 trillion over 10 years to the $20 trillion national debt',\n",
              " '“It’s interesting to hear Mark talk about fiscal responsibility,” Democratic U.S',\n",
              " 'Representative Joseph Crowley said on CBS',\n",
              " 'Crowley said the Republican tax bill would require the  United States to borrow $1.5 trillion, to be paid off by future generations, to finance tax cuts for corporations and the rich',\n",
              " '“This is one of the least ..',\n",
              " 'fiscally responsible bills we’ve ever seen passed in the history of the House of Representatives',\n",
              " 'I think we’re going to be paying for this for many, many years to come,” Crowley said',\n",
              " 'Republicans insist the tax package, the biggest U.S',\n",
              " 'tax overhaul in more than 30 years,  will boost the economy and job growth',\n",
              " 'House Speaker Paul Ryan, who also supported the tax bill, recently went further than Meadows, making clear in a radio interview that welfare or “entitlement reform,” as the party often calls it, would be a top Republican priority in 2018',\n",
              " 'In Republican parlance, “entitlement” programs mean food stamps, housing assistance, Medicare and Medicaid health insurance for the elderly, poor and disabled, as well as other programs created by Washington to assist the needy',\n",
              " 'Democrats seized on Ryan’s early December remarks, saying they showed Republicans would try to pay for their tax overhaul by seeking spending cuts for social programs',\n",
              " 'But the goals of House Republicans may have to take a back seat to the Senate, where the votes of some Democrats will be needed to approve a budget and prevent a government shutdown',\n",
              " 'Democrats will use their leverage in the Senate, which Republicans narrowly control, to defend both discretionary non-defense programs and social spending, while tackling the issue of the “Dreamers,” people brought illegally to the country as children',\n",
              " 'Trump in September put a March 2018 expiration date on the Deferred Action for Childhood Arrivals, or DACA, program, which protects the young immigrants from deportation and provides them with work permits',\n",
              " 'The president has said in recent Twitter messages he wants funding for his proposed Mexican border wall and other immigration law changes in exchange for agreeing to help the Dreamers',\n",
              " 'Representative Debbie Dingell told CBS she did not favor linking that issue to other policy objectives, such as wall funding',\n",
              " '“We need to do DACA clean,” she said',\n",
              " ' On Wednesday, Trump aides will meet with congressional leaders to discuss those issues',\n",
              " 'That will be followed by a weekend of strategy sessions for Trump and Republican leaders on Jan',\n",
              " '6 and 7, the White House said',\n",
              " 'Trump was also scheduled to meet on Sunday with Florida Republican Governor Rick Scott, who wants more emergency aid',\n",
              " 'The House has passed an $81 billion aid package after hurricanes in Florida, Texas and Puerto Rico, and wildfires in California',\n",
              " 'The package far exceeded the $44 billion requested by the Trump administration',\n",
              " 'The Senate has not yet voted on the aid',\n",
              " '']"
            ]
          },
          "metadata": {
            "tags": []
          },
          "execution_count": 10
        }
      ]
    },
    {
      "cell_type": "markdown",
      "metadata": {
        "id": "ZJackU5ojr97"
      },
      "source": [
        "## **TOKENIZADO -PRUEBA-**"
      ]
    },
    {
      "cell_type": "code",
      "metadata": {
        "id": "NjvpvO3qjvlu"
      },
      "source": [
        "from nltk.tokenize import word_tokenize\n",
        "from nltk.tokenize import sent_tokenize"
      ],
      "execution_count": null,
      "outputs": []
    },
    {
      "cell_type": "code",
      "metadata": {
        "colab": {
          "base_uri": "https://localhost:8080/"
        },
        "id": "DqGswQ4XQodp",
        "outputId": "cd2294a3-3eab-44bb-f409-8a45d7746d58"
      },
      "source": [
        "sent_tokenize(pruebareal)"
      ],
      "execution_count": null,
      "outputs": [
        {
          "output_type": "execute_result",
          "data": {
            "text/plain": [
              "['WASHINGTON (Reuters) - The head of a conservative Republican faction in the U.S. Congress, who voted this month for a huge expansion of the national debt to pay for tax cuts, called himself a “fiscal conservative” on Sunday and urged budget restraint in 2018.',\n",
              " 'In keeping with a sharp pivot under way among Republicans, U.S. Representative Mark Meadows, speaking on CBS’ “Face the Nation,” drew a hard line on federal spending, which lawmakers are bracing to do battle over in January.',\n",
              " 'When they return from the holidays on Wednesday, lawmakers will begin trying to pass a federal budget in a fight likely to be linked to other issues, such as immigration policy, even as the November congressional election campaigns approach in which Republicans will seek to keep control of Congress.',\n",
              " 'President Donald Trump and his Republicans want a big budget increase in military spending, while Democrats also want proportional increases for non-defense “discretionary” spending on programs that support education, scientific research, infrastructure, public health and environmental protection.',\n",
              " '“The (Trump) administration has already been willing to say: ‘We’re going to increase non-defense discretionary spending ... by about 7 percent,’” Meadows, chairman of the small but influential House Freedom Caucus, said on the program.',\n",
              " '“Now, Democrats are saying that’s not enough, we need to give the government a pay raise of 10 to 11 percent.',\n",
              " 'For a fiscal conservative, I don’t see where the rationale is.',\n",
              " '...',\n",
              " 'Eventually you run out of other people’s money,” he said.',\n",
              " 'Meadows was among Republicans who voted in late December for their party’s debt-financed tax overhaul, which is expected to balloon the federal budget deficit and add about $1.5 trillion over 10 years to the $20 trillion national debt.',\n",
              " '“It’s interesting to hear Mark talk about fiscal responsibility,” Democratic U.S. Representative Joseph Crowley said on CBS.',\n",
              " 'Crowley said the Republican tax bill would require the  United States to borrow $1.5 trillion, to be paid off by future generations, to finance tax cuts for corporations and the rich.',\n",
              " '“This is one of the least ... fiscally responsible bills we’ve ever seen passed in the history of the House of Representatives.',\n",
              " 'I think we’re going to be paying for this for many, many years to come,” Crowley said.',\n",
              " 'Republicans insist the tax package, the biggest U.S. tax overhaul in more than 30 years,  will boost the economy and job growth.',\n",
              " 'House Speaker Paul Ryan, who also supported the tax bill, recently went further than Meadows, making clear in a radio interview that welfare or “entitlement reform,” as the party often calls it, would be a top Republican priority in 2018.',\n",
              " 'In Republican parlance, “entitlement” programs mean food stamps, housing assistance, Medicare and Medicaid health insurance for the elderly, poor and disabled, as well as other programs created by Washington to assist the needy.',\n",
              " 'Democrats seized on Ryan’s early December remarks, saying they showed Republicans would try to pay for their tax overhaul by seeking spending cuts for social programs.',\n",
              " 'But the goals of House Republicans may have to take a back seat to the Senate, where the votes of some Democrats will be needed to approve a budget and prevent a government shutdown.',\n",
              " 'Democrats will use their leverage in the Senate, which Republicans narrowly control, to defend both discretionary non-defense programs and social spending, while tackling the issue of the “Dreamers,” people brought illegally to the country as children.',\n",
              " 'Trump in September put a March 2018 expiration date on the Deferred Action for Childhood Arrivals, or DACA, program, which protects the young immigrants from deportation and provides them with work permits.',\n",
              " 'The president has said in recent Twitter messages he wants funding for his proposed Mexican border wall and other immigration law changes in exchange for agreeing to help the Dreamers.',\n",
              " 'Representative Debbie Dingell told CBS she did not favor linking that issue to other policy objectives, such as wall funding.',\n",
              " '“We need to do DACA clean,” she said.',\n",
              " 'On Wednesday, Trump aides will meet with congressional leaders to discuss those issues.',\n",
              " 'That will be followed by a weekend of strategy sessions for Trump and Republican leaders on Jan. 6 and 7, the White House said.',\n",
              " 'Trump was also scheduled to meet on Sunday with Florida Republican Governor Rick Scott, who wants more emergency aid.',\n",
              " 'The House has passed an $81 billion aid package after hurricanes in Florida, Texas and Puerto Rico, and wildfires in California.',\n",
              " 'The package far exceeded the $44 billion requested by the Trump administration.',\n",
              " 'The Senate has not yet voted on the aid.']"
            ]
          },
          "metadata": {
            "tags": []
          },
          "execution_count": 12
        }
      ]
    },
    {
      "cell_type": "code",
      "metadata": {
        "colab": {
          "base_uri": "https://localhost:8080/"
        },
        "id": "SY1arBSErrV9",
        "outputId": "b9172633-37b4-4628-9b37-79442b2c59e4"
      },
      "source": [
        "sent_tokenize(pruebafake)"
      ],
      "execution_count": null,
      "outputs": [
        {
          "output_type": "execute_result",
          "data": {
            "text/plain": [
              "['Donald Trump just couldn t wish all Americans a Happy New Year and leave it at that.',\n",
              " 'Instead, he had to give a shout out to his enemies, haters and  the very dishonest fake news media.',\n",
              " 'The former reality show star had just one job to do and he couldn t do it.',\n",
              " 'As our Country rapidly grows stronger and smarter, I want to wish all of my friends, supporters, enemies, haters, and even the very dishonest Fake News Media, a Happy and Healthy New Year,  President Angry Pants tweeted.',\n",
              " '2018 will be a great year for America!',\n",
              " 'As our Country rapidly grows stronger and smarter, I want to wish all of my friends, supporters, enemies, haters, and even the very dishonest Fake News Media, a Happy and Healthy New Year.',\n",
              " '2018 will be a great year for America!',\n",
              " 'Donald J. Trump (@realDonaldTrump) December 31, 2017Trump s tweet went down about as welll as you d expect.What kind of president sends a New Year s greeting like this despicable, petty, infantile gibberish?',\n",
              " 'Only Trump!',\n",
              " 'His lack of decency won t even allow him to rise above the gutter long enough to wish the American citizens a happy new year!',\n",
              " 'Bishop Talbert Swan (@TalbertSwan) December 31, 2017no one likes you  Calvin (@calvinstowell) December 31, 2017Your impeachment would make 2018 a great year for America, but I ll also accept regaining control of Congress.',\n",
              " 'Miranda Yaver (@mirandayaver) December 31, 2017Do you hear yourself talk?',\n",
              " 'When you have to include that many people that hate you you have to wonder?',\n",
              " 'Why do the they all hate me?',\n",
              " 'Alan Sandoval (@AlanSandoval13) December 31, 2017Who uses the word Haters in a New Years wish??',\n",
              " 'Marlene (@marlene399) December 31, 2017You can t just say happy new year?',\n",
              " 'Koren pollitt (@Korencarpenter) December 31, 2017Here s Trump s New Year s Eve tweet from 2016.Happy New Year to all, including to my many enemies and those who have fought me and lost so badly they just don t know what to do.',\n",
              " 'Love!',\n",
              " 'Donald J. Trump (@realDonaldTrump) December 31, 2016This is nothing new for Trump.',\n",
              " 'He s been doing this for years.Trump has directed messages to his  enemies  and  haters  for New Year s, Easter, Thanksgiving, and the anniversary of 9/11.',\n",
              " 'pic.twitter.com/4FPAe2KypA  Daniel Dale (@ddale8) December 31, 2017Trump s holiday tweets are clearly not presidential.How long did he work at Hallmark before becoming President?',\n",
              " 'Steven Goodine (@SGoodine) December 31, 2017He s always been like this .',\n",
              " '.',\n",
              " '.',\n",
              " 'the only difference is that in the last few years, his filter has been breaking down.',\n",
              " 'Roy Schulze (@thbthttt) December 31, 2017Who, apart from a teenager uses the term haters?',\n",
              " 'Wendy (@WendyWhistles) December 31, 2017he s a fucking 5 year old  Who Knows (@rainyday80) December 31, 2017So, to all the people who voted for this a hole thinking he would change once he got into power, you were wrong!',\n",
              " '70-year-old men don t change and now he s a year older.Photo by Andrew Burton/Getty Images.']"
            ]
          },
          "metadata": {
            "tags": []
          },
          "execution_count": 13
        }
      ]
    },
    {
      "cell_type": "code",
      "metadata": {
        "colab": {
          "base_uri": "https://localhost:8080/"
        },
        "id": "qvQp5cPRweoC",
        "outputId": "39b531be-28e6-4369-c388-0f3237a0b15d"
      },
      "source": [
        "OracionesR=len(pruebareal)\n",
        "len(pruebareal)"
      ],
      "execution_count": null,
      "outputs": [
        {
          "output_type": "execute_result",
          "data": {
            "text/plain": [
              "4659"
            ]
          },
          "metadata": {
            "tags": []
          },
          "execution_count": 32
        }
      ]
    },
    {
      "cell_type": "code",
      "metadata": {
        "colab": {
          "base_uri": "https://localhost:8080/"
        },
        "id": "uzzSMoswz0kp",
        "outputId": "7b66c955-36aa-453d-8046-8bb5965a4813"
      },
      "source": [
        "OracionesF=len(pruebafake)\n",
        "len(pruebafake)"
      ],
      "execution_count": null,
      "outputs": [
        {
          "output_type": "execute_result",
          "data": {
            "text/plain": [
              "2893"
            ]
          },
          "metadata": {
            "tags": []
          },
          "execution_count": 33
        }
      ]
    },
    {
      "cell_type": "markdown",
      "metadata": {
        "id": "o29PQGS85CwY"
      },
      "source": [
        "TOKENIZADO DE ORACIONES"
      ]
    },
    {
      "cell_type": "code",
      "metadata": {
        "id": "IkNaLWCayENC"
      },
      "source": [
        "sentr=word_tokenize(pruebareal)\n",
        "sentf=word_tokenize(pruebafake)"
      ],
      "execution_count": null,
      "outputs": []
    },
    {
      "cell_type": "code",
      "metadata": {
        "colab": {
          "base_uri": "https://localhost:8080/"
        },
        "id": "TRzzKQGgyTIl",
        "outputId": "5ec2d684-62c2-4fe4-b852-89fe4a493f15"
      },
      "source": [
        "PalabrasF=len(sentf)\n",
        "len(sentf)"
      ],
      "execution_count": null,
      "outputs": [
        {
          "output_type": "execute_result",
          "data": {
            "text/plain": [
              "599"
            ]
          },
          "metadata": {
            "tags": []
          },
          "execution_count": 38
        }
      ]
    },
    {
      "cell_type": "code",
      "metadata": {
        "id": "Ts82GlIP2ncl",
        "colab": {
          "base_uri": "https://localhost:8080/"
        },
        "outputId": "afdfa992-a525-44d3-b65d-8b3b727cc212"
      },
      "source": [
        "PalabrasR=len(sentr)\n",
        "len(sentr)"
      ],
      "execution_count": null,
      "outputs": [
        {
          "output_type": "execute_result",
          "data": {
            "text/plain": [
              "885"
            ]
          },
          "metadata": {
            "tags": []
          },
          "execution_count": 39
        }
      ]
    },
    {
      "cell_type": "markdown",
      "metadata": {
        "id": "WgP7E7-h5G4R"
      },
      "source": [
        "\"REEEMPLAZO DE SILABAS\""
      ]
    },
    {
      "cell_type": "code",
      "metadata": {
        "colab": {
          "base_uri": "https://localhost:8080/"
        },
        "id": "zDWO0CJN3m3t",
        "outputId": "fc85d95f-e820-4d92-d954-04f1e9313c74"
      },
      "source": [
        "t=pruebafake.lower()\n",
        "print(t)\n",
        "t=t.replace(\"a\",\"<X>\").replace(\"e\",\"<X>\").replace(\"i\",\"<X>\").replace(\"o\",\"<X>\").replace(\"u\",\"<X>\").replace(\"y\",\"<X>\")\n",
        "\n",
        "print(t)\n",
        "t=t.replace(\"<X><X>\",\"<X>\")\n",
        "t=t.replace(\"<X><X>\",\"<X>\")\n",
        "print(t)\n",
        "SilabasF=len(t.split(\"<X>\"))\n",
        "print(SilabasF)"
      ],
      "execution_count": null,
      "outputs": [
        {
          "output_type": "stream",
          "text": [
            "donald trump just couldn t wish all americans a happy new year and leave it at that. instead, he had to give a shout out to his enemies, haters and  the very dishonest fake news media.  the former reality show star had just one job to do and he couldn t do it. as our country rapidly grows stronger and smarter, i want to wish all of my friends, supporters, enemies, haters, and even the very dishonest fake news media, a happy and healthy new year,  president angry pants tweeted.  2018 will be a great year for america! as our country rapidly grows stronger and smarter, i want to wish all of my friends, supporters, enemies, haters, and even the very dishonest fake news media, a happy and healthy new year. 2018 will be a great year for america!  donald j. trump (@realdonaldtrump) december 31, 2017trump s tweet went down about as welll as you d expect.what kind of president sends a new year s greeting like this despicable, petty, infantile gibberish? only trump! his lack of decency won t even allow him to rise above the gutter long enough to wish the american citizens a happy new year!  bishop talbert swan (@talbertswan) december 31, 2017no one likes you  calvin (@calvinstowell) december 31, 2017your impeachment would make 2018 a great year for america, but i ll also accept regaining control of congress.  miranda yaver (@mirandayaver) december 31, 2017do you hear yourself talk? when you have to include that many people that hate you you have to wonder? why do the they all hate me?  alan sandoval (@alansandoval13) december 31, 2017who uses the word haters in a new years wish??  marlene (@marlene399) december 31, 2017you can t just say happy new year?  koren pollitt (@korencarpenter) december 31, 2017here s trump s new year s eve tweet from 2016.happy new year to all, including to my many enemies and those who have fought me and lost so badly they just don t know what to do. love!  donald j. trump (@realdonaldtrump) december 31, 2016this is nothing new for trump. he s been doing this for years.trump has directed messages to his  enemies  and  haters  for new year s, easter, thanksgiving, and the anniversary of 9/11. pic.twitter.com/4fpae2kypa  daniel dale (@ddale8) december 31, 2017trump s holiday tweets are clearly not presidential.how long did he work at hallmark before becoming president?  steven goodine (@sgoodine) december 31, 2017he s always been like this . . . the only difference is that in the last few years, his filter has been breaking down.  roy schulze (@thbthttt) december 31, 2017who, apart from a teenager uses the term haters?  wendy (@wendywhistles) december 31, 2017he s a fucking 5 year old  who knows (@rainyday80) december 31, 2017so, to all the people who voted for this a hole thinking he would change once he got into power, you were wrong! 70-year-old men don t change and now he s a year older.photo by andrew burton/getty images.\n",
            "d<X>n<X>ld tr<X>mp j<X>st c<X><X>ldn t w<X>sh <X>ll <X>m<X>r<X>c<X>ns <X> h<X>pp<X> n<X>w <X><X><X>r <X>nd l<X><X>v<X> <X>t <X>t th<X>t. <X>nst<X><X>d, h<X> h<X>d t<X> g<X>v<X> <X> sh<X><X>t <X><X>t t<X> h<X>s <X>n<X>m<X><X>s, h<X>t<X>rs <X>nd  th<X> v<X>r<X> d<X>sh<X>n<X>st f<X>k<X> n<X>ws m<X>d<X><X>.  th<X> f<X>rm<X>r r<X><X>l<X>t<X> sh<X>w st<X>r h<X>d j<X>st <X>n<X> j<X>b t<X> d<X> <X>nd h<X> c<X><X>ldn t d<X> <X>t. <X>s <X><X>r c<X><X>ntr<X> r<X>p<X>dl<X> gr<X>ws str<X>ng<X>r <X>nd sm<X>rt<X>r, <X> w<X>nt t<X> w<X>sh <X>ll <X>f m<X> fr<X><X>nds, s<X>pp<X>rt<X>rs, <X>n<X>m<X><X>s, h<X>t<X>rs, <X>nd <X>v<X>n th<X> v<X>r<X> d<X>sh<X>n<X>st f<X>k<X> n<X>ws m<X>d<X><X>, <X> h<X>pp<X> <X>nd h<X><X>lth<X> n<X>w <X><X><X>r,  pr<X>s<X>d<X>nt <X>ngr<X> p<X>nts tw<X><X>t<X>d.  2018 w<X>ll b<X> <X> gr<X><X>t <X><X><X>r f<X>r <X>m<X>r<X>c<X>! <X>s <X><X>r c<X><X>ntr<X> r<X>p<X>dl<X> gr<X>ws str<X>ng<X>r <X>nd sm<X>rt<X>r, <X> w<X>nt t<X> w<X>sh <X>ll <X>f m<X> fr<X><X>nds, s<X>pp<X>rt<X>rs, <X>n<X>m<X><X>s, h<X>t<X>rs, <X>nd <X>v<X>n th<X> v<X>r<X> d<X>sh<X>n<X>st f<X>k<X> n<X>ws m<X>d<X><X>, <X> h<X>pp<X> <X>nd h<X><X>lth<X> n<X>w <X><X><X>r. 2018 w<X>ll b<X> <X> gr<X><X>t <X><X><X>r f<X>r <X>m<X>r<X>c<X>!  d<X>n<X>ld j. tr<X>mp (@r<X><X>ld<X>n<X>ldtr<X>mp) d<X>c<X>mb<X>r 31, 2017tr<X>mp s tw<X><X>t w<X>nt d<X>wn <X>b<X><X>t <X>s w<X>lll <X>s <X><X><X> d <X>xp<X>ct.wh<X>t k<X>nd <X>f pr<X>s<X>d<X>nt s<X>nds <X> n<X>w <X><X><X>r s gr<X><X>t<X>ng l<X>k<X> th<X>s d<X>sp<X>c<X>bl<X>, p<X>tt<X>, <X>nf<X>nt<X>l<X> g<X>bb<X>r<X>sh? <X>nl<X> tr<X>mp! h<X>s l<X>ck <X>f d<X>c<X>nc<X> w<X>n t <X>v<X>n <X>ll<X>w h<X>m t<X> r<X>s<X> <X>b<X>v<X> th<X> g<X>tt<X>r l<X>ng <X>n<X><X>gh t<X> w<X>sh th<X> <X>m<X>r<X>c<X>n c<X>t<X>z<X>ns <X> h<X>pp<X> n<X>w <X><X><X>r!  b<X>sh<X>p t<X>lb<X>rt sw<X>n (@t<X>lb<X>rtsw<X>n) d<X>c<X>mb<X>r 31, 2017n<X> <X>n<X> l<X>k<X>s <X><X><X>  c<X>lv<X>n (@c<X>lv<X>nst<X>w<X>ll) d<X>c<X>mb<X>r 31, 2017<X><X><X>r <X>mp<X><X>chm<X>nt w<X><X>ld m<X>k<X> 2018 <X> gr<X><X>t <X><X><X>r f<X>r <X>m<X>r<X>c<X>, b<X>t <X> ll <X>ls<X> <X>cc<X>pt r<X>g<X><X>n<X>ng c<X>ntr<X>l <X>f c<X>ngr<X>ss.  m<X>r<X>nd<X> <X><X>v<X>r (@m<X>r<X>nd<X><X><X>v<X>r) d<X>c<X>mb<X>r 31, 2017d<X> <X><X><X> h<X><X>r <X><X><X>rs<X>lf t<X>lk? wh<X>n <X><X><X> h<X>v<X> t<X> <X>ncl<X>d<X> th<X>t m<X>n<X> p<X><X>pl<X> th<X>t h<X>t<X> <X><X><X> <X><X><X> h<X>v<X> t<X> w<X>nd<X>r? wh<X> d<X> th<X> th<X><X> <X>ll h<X>t<X> m<X>?  <X>l<X>n s<X>nd<X>v<X>l (@<X>l<X>ns<X>nd<X>v<X>l13) d<X>c<X>mb<X>r 31, 2017wh<X> <X>s<X>s th<X> w<X>rd h<X>t<X>rs <X>n <X> n<X>w <X><X><X>rs w<X>sh??  m<X>rl<X>n<X> (@m<X>rl<X>n<X>399) d<X>c<X>mb<X>r 31, 2017<X><X><X> c<X>n t j<X>st s<X><X> h<X>pp<X> n<X>w <X><X><X>r?  k<X>r<X>n p<X>ll<X>tt (@k<X>r<X>nc<X>rp<X>nt<X>r) d<X>c<X>mb<X>r 31, 2017h<X>r<X> s tr<X>mp s n<X>w <X><X><X>r s <X>v<X> tw<X><X>t fr<X>m 2016.h<X>pp<X> n<X>w <X><X><X>r t<X> <X>ll, <X>ncl<X>d<X>ng t<X> m<X> m<X>n<X> <X>n<X>m<X><X>s <X>nd th<X>s<X> wh<X> h<X>v<X> f<X><X>ght m<X> <X>nd l<X>st s<X> b<X>dl<X> th<X><X> j<X>st d<X>n t kn<X>w wh<X>t t<X> d<X>. l<X>v<X>!  d<X>n<X>ld j. tr<X>mp (@r<X><X>ld<X>n<X>ldtr<X>mp) d<X>c<X>mb<X>r 31, 2016th<X>s <X>s n<X>th<X>ng n<X>w f<X>r tr<X>mp. h<X> s b<X><X>n d<X><X>ng th<X>s f<X>r <X><X><X>rs.tr<X>mp h<X>s d<X>r<X>ct<X>d m<X>ss<X>g<X>s t<X> h<X>s  <X>n<X>m<X><X>s  <X>nd  h<X>t<X>rs  f<X>r n<X>w <X><X><X>r s, <X><X>st<X>r, th<X>nksg<X>v<X>ng, <X>nd th<X> <X>nn<X>v<X>rs<X>r<X> <X>f 9/11. p<X>c.tw<X>tt<X>r.c<X>m/4fp<X><X>2k<X>p<X>  d<X>n<X><X>l d<X>l<X> (@dd<X>l<X>8) d<X>c<X>mb<X>r 31, 2017tr<X>mp s h<X>l<X>d<X><X> tw<X><X>ts <X>r<X> cl<X><X>rl<X> n<X>t pr<X>s<X>d<X>nt<X><X>l.h<X>w l<X>ng d<X>d h<X> w<X>rk <X>t h<X>llm<X>rk b<X>f<X>r<X> b<X>c<X>m<X>ng pr<X>s<X>d<X>nt?  st<X>v<X>n g<X><X>d<X>n<X> (@sg<X><X>d<X>n<X>) d<X>c<X>mb<X>r 31, 2017h<X> s <X>lw<X><X>s b<X><X>n l<X>k<X> th<X>s . . . th<X> <X>nl<X> d<X>ff<X>r<X>nc<X> <X>s th<X>t <X>n th<X> l<X>st f<X>w <X><X><X>rs, h<X>s f<X>lt<X>r h<X>s b<X><X>n br<X><X>k<X>ng d<X>wn.  r<X><X> sch<X>lz<X> (@thbthttt) d<X>c<X>mb<X>r 31, 2017wh<X>, <X>p<X>rt fr<X>m <X> t<X><X>n<X>g<X>r <X>s<X>s th<X> t<X>rm h<X>t<X>rs?  w<X>nd<X> (@w<X>nd<X>wh<X>stl<X>s) d<X>c<X>mb<X>r 31, 2017h<X> s <X> f<X>ck<X>ng 5 <X><X><X>r <X>ld  wh<X> kn<X>ws (@r<X><X>n<X>d<X><X>80) d<X>c<X>mb<X>r 31, 2017s<X>, t<X> <X>ll th<X> p<X><X>pl<X> wh<X> v<X>t<X>d f<X>r th<X>s <X> h<X>l<X> th<X>nk<X>ng h<X> w<X><X>ld ch<X>ng<X> <X>nc<X> h<X> g<X>t <X>nt<X> p<X>w<X>r, <X><X><X> w<X>r<X> wr<X>ng! 70-<X><X><X>r-<X>ld m<X>n d<X>n t ch<X>ng<X> <X>nd n<X>w h<X> s <X> <X><X><X>r <X>ld<X>r.ph<X>t<X> b<X> <X>ndr<X>w b<X>rt<X>n/g<X>tt<X> <X>m<X>g<X>s.\n",
            "d<X>n<X>ld tr<X>mp j<X>st c<X>ldn t w<X>sh <X>ll <X>m<X>r<X>c<X>ns <X> h<X>pp<X> n<X>w <X>r <X>nd l<X>v<X> <X>t <X>t th<X>t. <X>nst<X>d, h<X> h<X>d t<X> g<X>v<X> <X> sh<X>t <X>t t<X> h<X>s <X>n<X>m<X>s, h<X>t<X>rs <X>nd  th<X> v<X>r<X> d<X>sh<X>n<X>st f<X>k<X> n<X>ws m<X>d<X>.  th<X> f<X>rm<X>r r<X>l<X>t<X> sh<X>w st<X>r h<X>d j<X>st <X>n<X> j<X>b t<X> d<X> <X>nd h<X> c<X>ldn t d<X> <X>t. <X>s <X>r c<X>ntr<X> r<X>p<X>dl<X> gr<X>ws str<X>ng<X>r <X>nd sm<X>rt<X>r, <X> w<X>nt t<X> w<X>sh <X>ll <X>f m<X> fr<X>nds, s<X>pp<X>rt<X>rs, <X>n<X>m<X>s, h<X>t<X>rs, <X>nd <X>v<X>n th<X> v<X>r<X> d<X>sh<X>n<X>st f<X>k<X> n<X>ws m<X>d<X>, <X> h<X>pp<X> <X>nd h<X>lth<X> n<X>w <X>r,  pr<X>s<X>d<X>nt <X>ngr<X> p<X>nts tw<X>t<X>d.  2018 w<X>ll b<X> <X> gr<X>t <X>r f<X>r <X>m<X>r<X>c<X>! <X>s <X>r c<X>ntr<X> r<X>p<X>dl<X> gr<X>ws str<X>ng<X>r <X>nd sm<X>rt<X>r, <X> w<X>nt t<X> w<X>sh <X>ll <X>f m<X> fr<X>nds, s<X>pp<X>rt<X>rs, <X>n<X>m<X>s, h<X>t<X>rs, <X>nd <X>v<X>n th<X> v<X>r<X> d<X>sh<X>n<X>st f<X>k<X> n<X>ws m<X>d<X>, <X> h<X>pp<X> <X>nd h<X>lth<X> n<X>w <X>r. 2018 w<X>ll b<X> <X> gr<X>t <X>r f<X>r <X>m<X>r<X>c<X>!  d<X>n<X>ld j. tr<X>mp (@r<X>ld<X>n<X>ldtr<X>mp) d<X>c<X>mb<X>r 31, 2017tr<X>mp s tw<X>t w<X>nt d<X>wn <X>b<X>t <X>s w<X>lll <X>s <X> d <X>xp<X>ct.wh<X>t k<X>nd <X>f pr<X>s<X>d<X>nt s<X>nds <X> n<X>w <X>r s gr<X>t<X>ng l<X>k<X> th<X>s d<X>sp<X>c<X>bl<X>, p<X>tt<X>, <X>nf<X>nt<X>l<X> g<X>bb<X>r<X>sh? <X>nl<X> tr<X>mp! h<X>s l<X>ck <X>f d<X>c<X>nc<X> w<X>n t <X>v<X>n <X>ll<X>w h<X>m t<X> r<X>s<X> <X>b<X>v<X> th<X> g<X>tt<X>r l<X>ng <X>n<X>gh t<X> w<X>sh th<X> <X>m<X>r<X>c<X>n c<X>t<X>z<X>ns <X> h<X>pp<X> n<X>w <X>r!  b<X>sh<X>p t<X>lb<X>rt sw<X>n (@t<X>lb<X>rtsw<X>n) d<X>c<X>mb<X>r 31, 2017n<X> <X>n<X> l<X>k<X>s <X>  c<X>lv<X>n (@c<X>lv<X>nst<X>w<X>ll) d<X>c<X>mb<X>r 31, 2017<X>r <X>mp<X>chm<X>nt w<X>ld m<X>k<X> 2018 <X> gr<X>t <X>r f<X>r <X>m<X>r<X>c<X>, b<X>t <X> ll <X>ls<X> <X>cc<X>pt r<X>g<X>n<X>ng c<X>ntr<X>l <X>f c<X>ngr<X>ss.  m<X>r<X>nd<X> <X>v<X>r (@m<X>r<X>nd<X>v<X>r) d<X>c<X>mb<X>r 31, 2017d<X> <X> h<X>r <X>rs<X>lf t<X>lk? wh<X>n <X> h<X>v<X> t<X> <X>ncl<X>d<X> th<X>t m<X>n<X> p<X>pl<X> th<X>t h<X>t<X> <X> <X> h<X>v<X> t<X> w<X>nd<X>r? wh<X> d<X> th<X> th<X> <X>ll h<X>t<X> m<X>?  <X>l<X>n s<X>nd<X>v<X>l (@<X>l<X>ns<X>nd<X>v<X>l13) d<X>c<X>mb<X>r 31, 2017wh<X> <X>s<X>s th<X> w<X>rd h<X>t<X>rs <X>n <X> n<X>w <X>rs w<X>sh??  m<X>rl<X>n<X> (@m<X>rl<X>n<X>399) d<X>c<X>mb<X>r 31, 2017<X> c<X>n t j<X>st s<X> h<X>pp<X> n<X>w <X>r?  k<X>r<X>n p<X>ll<X>tt (@k<X>r<X>nc<X>rp<X>nt<X>r) d<X>c<X>mb<X>r 31, 2017h<X>r<X> s tr<X>mp s n<X>w <X>r s <X>v<X> tw<X>t fr<X>m 2016.h<X>pp<X> n<X>w <X>r t<X> <X>ll, <X>ncl<X>d<X>ng t<X> m<X> m<X>n<X> <X>n<X>m<X>s <X>nd th<X>s<X> wh<X> h<X>v<X> f<X>ght m<X> <X>nd l<X>st s<X> b<X>dl<X> th<X> j<X>st d<X>n t kn<X>w wh<X>t t<X> d<X>. l<X>v<X>!  d<X>n<X>ld j. tr<X>mp (@r<X>ld<X>n<X>ldtr<X>mp) d<X>c<X>mb<X>r 31, 2016th<X>s <X>s n<X>th<X>ng n<X>w f<X>r tr<X>mp. h<X> s b<X>n d<X>ng th<X>s f<X>r <X>rs.tr<X>mp h<X>s d<X>r<X>ct<X>d m<X>ss<X>g<X>s t<X> h<X>s  <X>n<X>m<X>s  <X>nd  h<X>t<X>rs  f<X>r n<X>w <X>r s, <X>st<X>r, th<X>nksg<X>v<X>ng, <X>nd th<X> <X>nn<X>v<X>rs<X>r<X> <X>f 9/11. p<X>c.tw<X>tt<X>r.c<X>m/4fp<X>2k<X>p<X>  d<X>n<X>l d<X>l<X> (@dd<X>l<X>8) d<X>c<X>mb<X>r 31, 2017tr<X>mp s h<X>l<X>d<X> tw<X>ts <X>r<X> cl<X>rl<X> n<X>t pr<X>s<X>d<X>nt<X>l.h<X>w l<X>ng d<X>d h<X> w<X>rk <X>t h<X>llm<X>rk b<X>f<X>r<X> b<X>c<X>m<X>ng pr<X>s<X>d<X>nt?  st<X>v<X>n g<X>d<X>n<X> (@sg<X>d<X>n<X>) d<X>c<X>mb<X>r 31, 2017h<X> s <X>lw<X>s b<X>n l<X>k<X> th<X>s . . . th<X> <X>nl<X> d<X>ff<X>r<X>nc<X> <X>s th<X>t <X>n th<X> l<X>st f<X>w <X>rs, h<X>s f<X>lt<X>r h<X>s b<X>n br<X>k<X>ng d<X>wn.  r<X> sch<X>lz<X> (@thbthttt) d<X>c<X>mb<X>r 31, 2017wh<X>, <X>p<X>rt fr<X>m <X> t<X>n<X>g<X>r <X>s<X>s th<X> t<X>rm h<X>t<X>rs?  w<X>nd<X> (@w<X>nd<X>wh<X>stl<X>s) d<X>c<X>mb<X>r 31, 2017h<X> s <X> f<X>ck<X>ng 5 <X>r <X>ld  wh<X> kn<X>ws (@r<X>n<X>d<X>80) d<X>c<X>mb<X>r 31, 2017s<X>, t<X> <X>ll th<X> p<X>pl<X> wh<X> v<X>t<X>d f<X>r th<X>s <X> h<X>l<X> th<X>nk<X>ng h<X> w<X>ld ch<X>ng<X> <X>nc<X> h<X> g<X>t <X>nt<X> p<X>w<X>r, <X> w<X>r<X> wr<X>ng! 70-<X>r-<X>ld m<X>n d<X>n t ch<X>ng<X> <X>nd n<X>w h<X> s <X> <X>r <X>ld<X>r.ph<X>t<X> b<X> <X>ndr<X>w b<X>rt<X>n/g<X>tt<X> <X>m<X>g<X>s.\n",
            "741\n"
          ],
          "name": "stdout"
        }
      ]
    },
    {
      "cell_type": "code",
      "metadata": {
        "colab": {
          "base_uri": "https://localhost:8080/"
        },
        "id": "bUe0ABXZ5TMp",
        "outputId": "92966794-1154-463c-94db-a70a52310e37"
      },
      "source": [
        "s=pruebareal.lower()\n",
        "print(s)\n",
        "s=s.replace(\"a\",\"<X>\").replace(\"e\",\"<X>\").replace(\"i\",\"<X>\").replace(\"o\",\"<X>\").replace(\"u\",\"<X>\").replace(\"y\",\"<X>\")\n",
        "\n",
        "print(s)\n",
        "s=s.replace(\"<X><X>\",\"<X>\")\n",
        "s=s.replace(\"<X><X>\",\"<X>\")\n",
        "print(s)\n",
        "SilabasR=len(s.split(\"<X>\"))\n",
        "print(SilabasR)"
      ],
      "execution_count": null,
      "outputs": [
        {
          "output_type": "stream",
          "text": [
            "washington (reuters) - the head of a conservative republican faction in the u.s. congress, who voted this month for a huge expansion of the national debt to pay for tax cuts, called himself a “fiscal conservative” on sunday and urged budget restraint in 2018. in keeping with a sharp pivot under way among republicans, u.s. representative mark meadows, speaking on cbs’ “face the nation,” drew a hard line on federal spending, which lawmakers are bracing to do battle over in january. when they return from the holidays on wednesday, lawmakers will begin trying to pass a federal budget in a fight likely to be linked to other issues, such as immigration policy, even as the november congressional election campaigns approach in which republicans will seek to keep control of congress. president donald trump and his republicans want a big budget increase in military spending, while democrats also want proportional increases for non-defense “discretionary” spending on programs that support education, scientific research, infrastructure, public health and environmental protection. “the (trump) administration has already been willing to say: ‘we’re going to increase non-defense discretionary spending ... by about 7 percent,’” meadows, chairman of the small but influential house freedom caucus, said on the program. “now, democrats are saying that’s not enough, we need to give the government a pay raise of 10 to 11 percent. for a fiscal conservative, i don’t see where the rationale is. ... eventually you run out of other people’s money,” he said. meadows was among republicans who voted in late december for their party’s debt-financed tax overhaul, which is expected to balloon the federal budget deficit and add about $1.5 trillion over 10 years to the $20 trillion national debt. “it’s interesting to hear mark talk about fiscal responsibility,” democratic u.s. representative joseph crowley said on cbs. crowley said the republican tax bill would require the  united states to borrow $1.5 trillion, to be paid off by future generations, to finance tax cuts for corporations and the rich. “this is one of the least ... fiscally responsible bills we’ve ever seen passed in the history of the house of representatives. i think we’re going to be paying for this for many, many years to come,” crowley said. republicans insist the tax package, the biggest u.s. tax overhaul in more than 30 years,  will boost the economy and job growth. house speaker paul ryan, who also supported the tax bill, recently went further than meadows, making clear in a radio interview that welfare or “entitlement reform,” as the party often calls it, would be a top republican priority in 2018. in republican parlance, “entitlement” programs mean food stamps, housing assistance, medicare and medicaid health insurance for the elderly, poor and disabled, as well as other programs created by washington to assist the needy. democrats seized on ryan’s early december remarks, saying they showed republicans would try to pay for their tax overhaul by seeking spending cuts for social programs. but the goals of house republicans may have to take a back seat to the senate, where the votes of some democrats will be needed to approve a budget and prevent a government shutdown. democrats will use their leverage in the senate, which republicans narrowly control, to defend both discretionary non-defense programs and social spending, while tackling the issue of the “dreamers,” people brought illegally to the country as children. trump in september put a march 2018 expiration date on the deferred action for childhood arrivals, or daca, program, which protects the young immigrants from deportation and provides them with work permits. the president has said in recent twitter messages he wants funding for his proposed mexican border wall and other immigration law changes in exchange for agreeing to help the dreamers. representative debbie dingell told cbs she did not favor linking that issue to other policy objectives, such as wall funding. “we need to do daca clean,” she said.  on wednesday, trump aides will meet with congressional leaders to discuss those issues. that will be followed by a weekend of strategy sessions for trump and republican leaders on jan. 6 and 7, the white house said. trump was also scheduled to meet on sunday with florida republican governor rick scott, who wants more emergency aid. the house has passed an $81 billion aid package after hurricanes in florida, texas and puerto rico, and wildfires in california. the package far exceeded the $44 billion requested by the trump administration. the senate has not yet voted on the aid. \n",
            "w<X>sh<X>ngt<X>n (r<X><X>t<X>rs) - th<X> h<X><X>d <X>f <X> c<X>ns<X>rv<X>t<X>v<X> r<X>p<X>bl<X>c<X>n f<X>ct<X><X>n <X>n th<X> <X>.s. c<X>ngr<X>ss, wh<X> v<X>t<X>d th<X>s m<X>nth f<X>r <X> h<X>g<X> <X>xp<X>ns<X><X>n <X>f th<X> n<X>t<X><X>n<X>l d<X>bt t<X> p<X><X> f<X>r t<X>x c<X>ts, c<X>ll<X>d h<X>ms<X>lf <X> “f<X>sc<X>l c<X>ns<X>rv<X>t<X>v<X>” <X>n s<X>nd<X><X> <X>nd <X>rg<X>d b<X>dg<X>t r<X>str<X><X>nt <X>n 2018. <X>n k<X><X>p<X>ng w<X>th <X> sh<X>rp p<X>v<X>t <X>nd<X>r w<X><X> <X>m<X>ng r<X>p<X>bl<X>c<X>ns, <X>.s. r<X>pr<X>s<X>nt<X>t<X>v<X> m<X>rk m<X><X>d<X>ws, sp<X><X>k<X>ng <X>n cbs’ “f<X>c<X> th<X> n<X>t<X><X>n,” dr<X>w <X> h<X>rd l<X>n<X> <X>n f<X>d<X>r<X>l sp<X>nd<X>ng, wh<X>ch l<X>wm<X>k<X>rs <X>r<X> br<X>c<X>ng t<X> d<X> b<X>ttl<X> <X>v<X>r <X>n j<X>n<X><X>r<X>. wh<X>n th<X><X> r<X>t<X>rn fr<X>m th<X> h<X>l<X>d<X><X>s <X>n w<X>dn<X>sd<X><X>, l<X>wm<X>k<X>rs w<X>ll b<X>g<X>n tr<X><X>ng t<X> p<X>ss <X> f<X>d<X>r<X>l b<X>dg<X>t <X>n <X> f<X>ght l<X>k<X>l<X> t<X> b<X> l<X>nk<X>d t<X> <X>th<X>r <X>ss<X><X>s, s<X>ch <X>s <X>mm<X>gr<X>t<X><X>n p<X>l<X>c<X>, <X>v<X>n <X>s th<X> n<X>v<X>mb<X>r c<X>ngr<X>ss<X><X>n<X>l <X>l<X>ct<X><X>n c<X>mp<X><X>gns <X>ppr<X><X>ch <X>n wh<X>ch r<X>p<X>bl<X>c<X>ns w<X>ll s<X><X>k t<X> k<X><X>p c<X>ntr<X>l <X>f c<X>ngr<X>ss. pr<X>s<X>d<X>nt d<X>n<X>ld tr<X>mp <X>nd h<X>s r<X>p<X>bl<X>c<X>ns w<X>nt <X> b<X>g b<X>dg<X>t <X>ncr<X><X>s<X> <X>n m<X>l<X>t<X>r<X> sp<X>nd<X>ng, wh<X>l<X> d<X>m<X>cr<X>ts <X>ls<X> w<X>nt pr<X>p<X>rt<X><X>n<X>l <X>ncr<X><X>s<X>s f<X>r n<X>n-d<X>f<X>ns<X> “d<X>scr<X>t<X><X>n<X>r<X>” sp<X>nd<X>ng <X>n pr<X>gr<X>ms th<X>t s<X>pp<X>rt <X>d<X>c<X>t<X><X>n, sc<X><X>nt<X>f<X>c r<X>s<X><X>rch, <X>nfr<X>str<X>ct<X>r<X>, p<X>bl<X>c h<X><X>lth <X>nd <X>nv<X>r<X>nm<X>nt<X>l pr<X>t<X>ct<X><X>n. “th<X> (tr<X>mp) <X>dm<X>n<X>str<X>t<X><X>n h<X>s <X>lr<X><X>d<X> b<X><X>n w<X>ll<X>ng t<X> s<X><X>: ‘w<X>’r<X> g<X><X>ng t<X> <X>ncr<X><X>s<X> n<X>n-d<X>f<X>ns<X> d<X>scr<X>t<X><X>n<X>r<X> sp<X>nd<X>ng ... b<X> <X>b<X><X>t 7 p<X>rc<X>nt,’” m<X><X>d<X>ws, ch<X><X>rm<X>n <X>f th<X> sm<X>ll b<X>t <X>nfl<X><X>nt<X><X>l h<X><X>s<X> fr<X><X>d<X>m c<X><X>c<X>s, s<X><X>d <X>n th<X> pr<X>gr<X>m. “n<X>w, d<X>m<X>cr<X>ts <X>r<X> s<X><X><X>ng th<X>t’s n<X>t <X>n<X><X>gh, w<X> n<X><X>d t<X> g<X>v<X> th<X> g<X>v<X>rnm<X>nt <X> p<X><X> r<X><X>s<X> <X>f 10 t<X> 11 p<X>rc<X>nt. f<X>r <X> f<X>sc<X>l c<X>ns<X>rv<X>t<X>v<X>, <X> d<X>n’t s<X><X> wh<X>r<X> th<X> r<X>t<X><X>n<X>l<X> <X>s. ... <X>v<X>nt<X><X>ll<X> <X><X><X> r<X>n <X><X>t <X>f <X>th<X>r p<X><X>pl<X>’s m<X>n<X><X>,” h<X> s<X><X>d. m<X><X>d<X>ws w<X>s <X>m<X>ng r<X>p<X>bl<X>c<X>ns wh<X> v<X>t<X>d <X>n l<X>t<X> d<X>c<X>mb<X>r f<X>r th<X><X>r p<X>rt<X>’s d<X>bt-f<X>n<X>nc<X>d t<X>x <X>v<X>rh<X><X>l, wh<X>ch <X>s <X>xp<X>ct<X>d t<X> b<X>ll<X><X>n th<X> f<X>d<X>r<X>l b<X>dg<X>t d<X>f<X>c<X>t <X>nd <X>dd <X>b<X><X>t $1.5 tr<X>ll<X><X>n <X>v<X>r 10 <X><X><X>rs t<X> th<X> $20 tr<X>ll<X><X>n n<X>t<X><X>n<X>l d<X>bt. “<X>t’s <X>nt<X>r<X>st<X>ng t<X> h<X><X>r m<X>rk t<X>lk <X>b<X><X>t f<X>sc<X>l r<X>sp<X>ns<X>b<X>l<X>t<X>,” d<X>m<X>cr<X>t<X>c <X>.s. r<X>pr<X>s<X>nt<X>t<X>v<X> j<X>s<X>ph cr<X>wl<X><X> s<X><X>d <X>n cbs. cr<X>wl<X><X> s<X><X>d th<X> r<X>p<X>bl<X>c<X>n t<X>x b<X>ll w<X><X>ld r<X>q<X><X>r<X> th<X>  <X>n<X>t<X>d st<X>t<X>s t<X> b<X>rr<X>w $1.5 tr<X>ll<X><X>n, t<X> b<X> p<X><X>d <X>ff b<X> f<X>t<X>r<X> g<X>n<X>r<X>t<X><X>ns, t<X> f<X>n<X>nc<X> t<X>x c<X>ts f<X>r c<X>rp<X>r<X>t<X><X>ns <X>nd th<X> r<X>ch. “th<X>s <X>s <X>n<X> <X>f th<X> l<X><X>st ... f<X>sc<X>ll<X> r<X>sp<X>ns<X>bl<X> b<X>lls w<X>’v<X> <X>v<X>r s<X><X>n p<X>ss<X>d <X>n th<X> h<X>st<X>r<X> <X>f th<X> h<X><X>s<X> <X>f r<X>pr<X>s<X>nt<X>t<X>v<X>s. <X> th<X>nk w<X>’r<X> g<X><X>ng t<X> b<X> p<X><X><X>ng f<X>r th<X>s f<X>r m<X>n<X>, m<X>n<X> <X><X><X>rs t<X> c<X>m<X>,” cr<X>wl<X><X> s<X><X>d. r<X>p<X>bl<X>c<X>ns <X>ns<X>st th<X> t<X>x p<X>ck<X>g<X>, th<X> b<X>gg<X>st <X>.s. t<X>x <X>v<X>rh<X><X>l <X>n m<X>r<X> th<X>n 30 <X><X><X>rs,  w<X>ll b<X><X>st th<X> <X>c<X>n<X>m<X> <X>nd j<X>b gr<X>wth. h<X><X>s<X> sp<X><X>k<X>r p<X><X>l r<X><X>n, wh<X> <X>ls<X> s<X>pp<X>rt<X>d th<X> t<X>x b<X>ll, r<X>c<X>ntl<X> w<X>nt f<X>rth<X>r th<X>n m<X><X>d<X>ws, m<X>k<X>ng cl<X><X>r <X>n <X> r<X>d<X><X> <X>nt<X>rv<X><X>w th<X>t w<X>lf<X>r<X> <X>r “<X>nt<X>tl<X>m<X>nt r<X>f<X>rm,” <X>s th<X> p<X>rt<X> <X>ft<X>n c<X>lls <X>t, w<X><X>ld b<X> <X> t<X>p r<X>p<X>bl<X>c<X>n pr<X><X>r<X>t<X> <X>n 2018. <X>n r<X>p<X>bl<X>c<X>n p<X>rl<X>nc<X>, “<X>nt<X>tl<X>m<X>nt” pr<X>gr<X>ms m<X><X>n f<X><X>d st<X>mps, h<X><X>s<X>ng <X>ss<X>st<X>nc<X>, m<X>d<X>c<X>r<X> <X>nd m<X>d<X>c<X><X>d h<X><X>lth <X>ns<X>r<X>nc<X> f<X>r th<X> <X>ld<X>rl<X>, p<X><X>r <X>nd d<X>s<X>bl<X>d, <X>s w<X>ll <X>s <X>th<X>r pr<X>gr<X>ms cr<X><X>t<X>d b<X> w<X>sh<X>ngt<X>n t<X> <X>ss<X>st th<X> n<X><X>d<X>. d<X>m<X>cr<X>ts s<X><X>z<X>d <X>n r<X><X>n’s <X><X>rl<X> d<X>c<X>mb<X>r r<X>m<X>rks, s<X><X><X>ng th<X><X> sh<X>w<X>d r<X>p<X>bl<X>c<X>ns w<X><X>ld tr<X> t<X> p<X><X> f<X>r th<X><X>r t<X>x <X>v<X>rh<X><X>l b<X> s<X><X>k<X>ng sp<X>nd<X>ng c<X>ts f<X>r s<X>c<X><X>l pr<X>gr<X>ms. b<X>t th<X> g<X><X>ls <X>f h<X><X>s<X> r<X>p<X>bl<X>c<X>ns m<X><X> h<X>v<X> t<X> t<X>k<X> <X> b<X>ck s<X><X>t t<X> th<X> s<X>n<X>t<X>, wh<X>r<X> th<X> v<X>t<X>s <X>f s<X>m<X> d<X>m<X>cr<X>ts w<X>ll b<X> n<X><X>d<X>d t<X> <X>ppr<X>v<X> <X> b<X>dg<X>t <X>nd pr<X>v<X>nt <X> g<X>v<X>rnm<X>nt sh<X>td<X>wn. d<X>m<X>cr<X>ts w<X>ll <X>s<X> th<X><X>r l<X>v<X>r<X>g<X> <X>n th<X> s<X>n<X>t<X>, wh<X>ch r<X>p<X>bl<X>c<X>ns n<X>rr<X>wl<X> c<X>ntr<X>l, t<X> d<X>f<X>nd b<X>th d<X>scr<X>t<X><X>n<X>r<X> n<X>n-d<X>f<X>ns<X> pr<X>gr<X>ms <X>nd s<X>c<X><X>l sp<X>nd<X>ng, wh<X>l<X> t<X>ckl<X>ng th<X> <X>ss<X><X> <X>f th<X> “dr<X><X>m<X>rs,” p<X><X>pl<X> br<X><X>ght <X>ll<X>g<X>ll<X> t<X> th<X> c<X><X>ntr<X> <X>s ch<X>ldr<X>n. tr<X>mp <X>n s<X>pt<X>mb<X>r p<X>t <X> m<X>rch 2018 <X>xp<X>r<X>t<X><X>n d<X>t<X> <X>n th<X> d<X>f<X>rr<X>d <X>ct<X><X>n f<X>r ch<X>ldh<X><X>d <X>rr<X>v<X>ls, <X>r d<X>c<X>, pr<X>gr<X>m, wh<X>ch pr<X>t<X>cts th<X> <X><X><X>ng <X>mm<X>gr<X>nts fr<X>m d<X>p<X>rt<X>t<X><X>n <X>nd pr<X>v<X>d<X>s th<X>m w<X>th w<X>rk p<X>rm<X>ts. th<X> pr<X>s<X>d<X>nt h<X>s s<X><X>d <X>n r<X>c<X>nt tw<X>tt<X>r m<X>ss<X>g<X>s h<X> w<X>nts f<X>nd<X>ng f<X>r h<X>s pr<X>p<X>s<X>d m<X>x<X>c<X>n b<X>rd<X>r w<X>ll <X>nd <X>th<X>r <X>mm<X>gr<X>t<X><X>n l<X>w ch<X>ng<X>s <X>n <X>xch<X>ng<X> f<X>r <X>gr<X><X><X>ng t<X> h<X>lp th<X> dr<X><X>m<X>rs. r<X>pr<X>s<X>nt<X>t<X>v<X> d<X>bb<X><X> d<X>ng<X>ll t<X>ld cbs sh<X> d<X>d n<X>t f<X>v<X>r l<X>nk<X>ng th<X>t <X>ss<X><X> t<X> <X>th<X>r p<X>l<X>c<X> <X>bj<X>ct<X>v<X>s, s<X>ch <X>s w<X>ll f<X>nd<X>ng. “w<X> n<X><X>d t<X> d<X> d<X>c<X> cl<X><X>n,” sh<X> s<X><X>d.  <X>n w<X>dn<X>sd<X><X>, tr<X>mp <X><X>d<X>s w<X>ll m<X><X>t w<X>th c<X>ngr<X>ss<X><X>n<X>l l<X><X>d<X>rs t<X> d<X>sc<X>ss th<X>s<X> <X>ss<X><X>s. th<X>t w<X>ll b<X> f<X>ll<X>w<X>d b<X> <X> w<X><X>k<X>nd <X>f str<X>t<X>g<X> s<X>ss<X><X>ns f<X>r tr<X>mp <X>nd r<X>p<X>bl<X>c<X>n l<X><X>d<X>rs <X>n j<X>n. 6 <X>nd 7, th<X> wh<X>t<X> h<X><X>s<X> s<X><X>d. tr<X>mp w<X>s <X>ls<X> sch<X>d<X>l<X>d t<X> m<X><X>t <X>n s<X>nd<X><X> w<X>th fl<X>r<X>d<X> r<X>p<X>bl<X>c<X>n g<X>v<X>rn<X>r r<X>ck sc<X>tt, wh<X> w<X>nts m<X>r<X> <X>m<X>rg<X>nc<X> <X><X>d. th<X> h<X><X>s<X> h<X>s p<X>ss<X>d <X>n $81 b<X>ll<X><X>n <X><X>d p<X>ck<X>g<X> <X>ft<X>r h<X>rr<X>c<X>n<X>s <X>n fl<X>r<X>d<X>, t<X>x<X>s <X>nd p<X><X>rt<X> r<X>c<X>, <X>nd w<X>ldf<X>r<X>s <X>n c<X>l<X>f<X>rn<X><X>. th<X> p<X>ck<X>g<X> f<X>r <X>xc<X><X>d<X>d th<X> $44 b<X>ll<X><X>n r<X>q<X><X>st<X>d b<X> th<X> tr<X>mp <X>dm<X>n<X>str<X>t<X><X>n. th<X> s<X>n<X>t<X> h<X>s n<X>t <X><X>t v<X>t<X>d <X>n th<X> <X><X>d. \n",
            "w<X>sh<X>ngt<X>n (r<X>t<X>rs) - th<X> h<X>d <X>f <X> c<X>ns<X>rv<X>t<X>v<X> r<X>p<X>bl<X>c<X>n f<X>ct<X>n <X>n th<X> <X>.s. c<X>ngr<X>ss, wh<X> v<X>t<X>d th<X>s m<X>nth f<X>r <X> h<X>g<X> <X>xp<X>ns<X>n <X>f th<X> n<X>t<X>n<X>l d<X>bt t<X> p<X> f<X>r t<X>x c<X>ts, c<X>ll<X>d h<X>ms<X>lf <X> “f<X>sc<X>l c<X>ns<X>rv<X>t<X>v<X>” <X>n s<X>nd<X> <X>nd <X>rg<X>d b<X>dg<X>t r<X>str<X>nt <X>n 2018. <X>n k<X>p<X>ng w<X>th <X> sh<X>rp p<X>v<X>t <X>nd<X>r w<X> <X>m<X>ng r<X>p<X>bl<X>c<X>ns, <X>.s. r<X>pr<X>s<X>nt<X>t<X>v<X> m<X>rk m<X>d<X>ws, sp<X>k<X>ng <X>n cbs’ “f<X>c<X> th<X> n<X>t<X>n,” dr<X>w <X> h<X>rd l<X>n<X> <X>n f<X>d<X>r<X>l sp<X>nd<X>ng, wh<X>ch l<X>wm<X>k<X>rs <X>r<X> br<X>c<X>ng t<X> d<X> b<X>ttl<X> <X>v<X>r <X>n j<X>n<X>r<X>. wh<X>n th<X> r<X>t<X>rn fr<X>m th<X> h<X>l<X>d<X>s <X>n w<X>dn<X>sd<X>, l<X>wm<X>k<X>rs w<X>ll b<X>g<X>n tr<X>ng t<X> p<X>ss <X> f<X>d<X>r<X>l b<X>dg<X>t <X>n <X> f<X>ght l<X>k<X>l<X> t<X> b<X> l<X>nk<X>d t<X> <X>th<X>r <X>ss<X>s, s<X>ch <X>s <X>mm<X>gr<X>t<X>n p<X>l<X>c<X>, <X>v<X>n <X>s th<X> n<X>v<X>mb<X>r c<X>ngr<X>ss<X>n<X>l <X>l<X>ct<X>n c<X>mp<X>gns <X>ppr<X>ch <X>n wh<X>ch r<X>p<X>bl<X>c<X>ns w<X>ll s<X>k t<X> k<X>p c<X>ntr<X>l <X>f c<X>ngr<X>ss. pr<X>s<X>d<X>nt d<X>n<X>ld tr<X>mp <X>nd h<X>s r<X>p<X>bl<X>c<X>ns w<X>nt <X> b<X>g b<X>dg<X>t <X>ncr<X>s<X> <X>n m<X>l<X>t<X>r<X> sp<X>nd<X>ng, wh<X>l<X> d<X>m<X>cr<X>ts <X>ls<X> w<X>nt pr<X>p<X>rt<X>n<X>l <X>ncr<X>s<X>s f<X>r n<X>n-d<X>f<X>ns<X> “d<X>scr<X>t<X>n<X>r<X>” sp<X>nd<X>ng <X>n pr<X>gr<X>ms th<X>t s<X>pp<X>rt <X>d<X>c<X>t<X>n, sc<X>nt<X>f<X>c r<X>s<X>rch, <X>nfr<X>str<X>ct<X>r<X>, p<X>bl<X>c h<X>lth <X>nd <X>nv<X>r<X>nm<X>nt<X>l pr<X>t<X>ct<X>n. “th<X> (tr<X>mp) <X>dm<X>n<X>str<X>t<X>n h<X>s <X>lr<X>d<X> b<X>n w<X>ll<X>ng t<X> s<X>: ‘w<X>’r<X> g<X>ng t<X> <X>ncr<X>s<X> n<X>n-d<X>f<X>ns<X> d<X>scr<X>t<X>n<X>r<X> sp<X>nd<X>ng ... b<X> <X>b<X>t 7 p<X>rc<X>nt,’” m<X>d<X>ws, ch<X>rm<X>n <X>f th<X> sm<X>ll b<X>t <X>nfl<X>nt<X>l h<X>s<X> fr<X>d<X>m c<X>c<X>s, s<X>d <X>n th<X> pr<X>gr<X>m. “n<X>w, d<X>m<X>cr<X>ts <X>r<X> s<X>ng th<X>t’s n<X>t <X>n<X>gh, w<X> n<X>d t<X> g<X>v<X> th<X> g<X>v<X>rnm<X>nt <X> p<X> r<X>s<X> <X>f 10 t<X> 11 p<X>rc<X>nt. f<X>r <X> f<X>sc<X>l c<X>ns<X>rv<X>t<X>v<X>, <X> d<X>n’t s<X> wh<X>r<X> th<X> r<X>t<X>n<X>l<X> <X>s. ... <X>v<X>nt<X>ll<X> <X> r<X>n <X>t <X>f <X>th<X>r p<X>pl<X>’s m<X>n<X>,” h<X> s<X>d. m<X>d<X>ws w<X>s <X>m<X>ng r<X>p<X>bl<X>c<X>ns wh<X> v<X>t<X>d <X>n l<X>t<X> d<X>c<X>mb<X>r f<X>r th<X>r p<X>rt<X>’s d<X>bt-f<X>n<X>nc<X>d t<X>x <X>v<X>rh<X>l, wh<X>ch <X>s <X>xp<X>ct<X>d t<X> b<X>ll<X>n th<X> f<X>d<X>r<X>l b<X>dg<X>t d<X>f<X>c<X>t <X>nd <X>dd <X>b<X>t $1.5 tr<X>ll<X>n <X>v<X>r 10 <X>rs t<X> th<X> $20 tr<X>ll<X>n n<X>t<X>n<X>l d<X>bt. “<X>t’s <X>nt<X>r<X>st<X>ng t<X> h<X>r m<X>rk t<X>lk <X>b<X>t f<X>sc<X>l r<X>sp<X>ns<X>b<X>l<X>t<X>,” d<X>m<X>cr<X>t<X>c <X>.s. r<X>pr<X>s<X>nt<X>t<X>v<X> j<X>s<X>ph cr<X>wl<X> s<X>d <X>n cbs. cr<X>wl<X> s<X>d th<X> r<X>p<X>bl<X>c<X>n t<X>x b<X>ll w<X>ld r<X>q<X>r<X> th<X>  <X>n<X>t<X>d st<X>t<X>s t<X> b<X>rr<X>w $1.5 tr<X>ll<X>n, t<X> b<X> p<X>d <X>ff b<X> f<X>t<X>r<X> g<X>n<X>r<X>t<X>ns, t<X> f<X>n<X>nc<X> t<X>x c<X>ts f<X>r c<X>rp<X>r<X>t<X>ns <X>nd th<X> r<X>ch. “th<X>s <X>s <X>n<X> <X>f th<X> l<X>st ... f<X>sc<X>ll<X> r<X>sp<X>ns<X>bl<X> b<X>lls w<X>’v<X> <X>v<X>r s<X>n p<X>ss<X>d <X>n th<X> h<X>st<X>r<X> <X>f th<X> h<X>s<X> <X>f r<X>pr<X>s<X>nt<X>t<X>v<X>s. <X> th<X>nk w<X>’r<X> g<X>ng t<X> b<X> p<X>ng f<X>r th<X>s f<X>r m<X>n<X>, m<X>n<X> <X>rs t<X> c<X>m<X>,” cr<X>wl<X> s<X>d. r<X>p<X>bl<X>c<X>ns <X>ns<X>st th<X> t<X>x p<X>ck<X>g<X>, th<X> b<X>gg<X>st <X>.s. t<X>x <X>v<X>rh<X>l <X>n m<X>r<X> th<X>n 30 <X>rs,  w<X>ll b<X>st th<X> <X>c<X>n<X>m<X> <X>nd j<X>b gr<X>wth. h<X>s<X> sp<X>k<X>r p<X>l r<X>n, wh<X> <X>ls<X> s<X>pp<X>rt<X>d th<X> t<X>x b<X>ll, r<X>c<X>ntl<X> w<X>nt f<X>rth<X>r th<X>n m<X>d<X>ws, m<X>k<X>ng cl<X>r <X>n <X> r<X>d<X> <X>nt<X>rv<X>w th<X>t w<X>lf<X>r<X> <X>r “<X>nt<X>tl<X>m<X>nt r<X>f<X>rm,” <X>s th<X> p<X>rt<X> <X>ft<X>n c<X>lls <X>t, w<X>ld b<X> <X> t<X>p r<X>p<X>bl<X>c<X>n pr<X>r<X>t<X> <X>n 2018. <X>n r<X>p<X>bl<X>c<X>n p<X>rl<X>nc<X>, “<X>nt<X>tl<X>m<X>nt” pr<X>gr<X>ms m<X>n f<X>d st<X>mps, h<X>s<X>ng <X>ss<X>st<X>nc<X>, m<X>d<X>c<X>r<X> <X>nd m<X>d<X>c<X>d h<X>lth <X>ns<X>r<X>nc<X> f<X>r th<X> <X>ld<X>rl<X>, p<X>r <X>nd d<X>s<X>bl<X>d, <X>s w<X>ll <X>s <X>th<X>r pr<X>gr<X>ms cr<X>t<X>d b<X> w<X>sh<X>ngt<X>n t<X> <X>ss<X>st th<X> n<X>d<X>. d<X>m<X>cr<X>ts s<X>z<X>d <X>n r<X>n’s <X>rl<X> d<X>c<X>mb<X>r r<X>m<X>rks, s<X>ng th<X> sh<X>w<X>d r<X>p<X>bl<X>c<X>ns w<X>ld tr<X> t<X> p<X> f<X>r th<X>r t<X>x <X>v<X>rh<X>l b<X> s<X>k<X>ng sp<X>nd<X>ng c<X>ts f<X>r s<X>c<X>l pr<X>gr<X>ms. b<X>t th<X> g<X>ls <X>f h<X>s<X> r<X>p<X>bl<X>c<X>ns m<X> h<X>v<X> t<X> t<X>k<X> <X> b<X>ck s<X>t t<X> th<X> s<X>n<X>t<X>, wh<X>r<X> th<X> v<X>t<X>s <X>f s<X>m<X> d<X>m<X>cr<X>ts w<X>ll b<X> n<X>d<X>d t<X> <X>ppr<X>v<X> <X> b<X>dg<X>t <X>nd pr<X>v<X>nt <X> g<X>v<X>rnm<X>nt sh<X>td<X>wn. d<X>m<X>cr<X>ts w<X>ll <X>s<X> th<X>r l<X>v<X>r<X>g<X> <X>n th<X> s<X>n<X>t<X>, wh<X>ch r<X>p<X>bl<X>c<X>ns n<X>rr<X>wl<X> c<X>ntr<X>l, t<X> d<X>f<X>nd b<X>th d<X>scr<X>t<X>n<X>r<X> n<X>n-d<X>f<X>ns<X> pr<X>gr<X>ms <X>nd s<X>c<X>l sp<X>nd<X>ng, wh<X>l<X> t<X>ckl<X>ng th<X> <X>ss<X> <X>f th<X> “dr<X>m<X>rs,” p<X>pl<X> br<X>ght <X>ll<X>g<X>ll<X> t<X> th<X> c<X>ntr<X> <X>s ch<X>ldr<X>n. tr<X>mp <X>n s<X>pt<X>mb<X>r p<X>t <X> m<X>rch 2018 <X>xp<X>r<X>t<X>n d<X>t<X> <X>n th<X> d<X>f<X>rr<X>d <X>ct<X>n f<X>r ch<X>ldh<X>d <X>rr<X>v<X>ls, <X>r d<X>c<X>, pr<X>gr<X>m, wh<X>ch pr<X>t<X>cts th<X> <X>ng <X>mm<X>gr<X>nts fr<X>m d<X>p<X>rt<X>t<X>n <X>nd pr<X>v<X>d<X>s th<X>m w<X>th w<X>rk p<X>rm<X>ts. th<X> pr<X>s<X>d<X>nt h<X>s s<X>d <X>n r<X>c<X>nt tw<X>tt<X>r m<X>ss<X>g<X>s h<X> w<X>nts f<X>nd<X>ng f<X>r h<X>s pr<X>p<X>s<X>d m<X>x<X>c<X>n b<X>rd<X>r w<X>ll <X>nd <X>th<X>r <X>mm<X>gr<X>t<X>n l<X>w ch<X>ng<X>s <X>n <X>xch<X>ng<X> f<X>r <X>gr<X>ng t<X> h<X>lp th<X> dr<X>m<X>rs. r<X>pr<X>s<X>nt<X>t<X>v<X> d<X>bb<X> d<X>ng<X>ll t<X>ld cbs sh<X> d<X>d n<X>t f<X>v<X>r l<X>nk<X>ng th<X>t <X>ss<X> t<X> <X>th<X>r p<X>l<X>c<X> <X>bj<X>ct<X>v<X>s, s<X>ch <X>s w<X>ll f<X>nd<X>ng. “w<X> n<X>d t<X> d<X> d<X>c<X> cl<X>n,” sh<X> s<X>d.  <X>n w<X>dn<X>sd<X>, tr<X>mp <X>d<X>s w<X>ll m<X>t w<X>th c<X>ngr<X>ss<X>n<X>l l<X>d<X>rs t<X> d<X>sc<X>ss th<X>s<X> <X>ss<X>s. th<X>t w<X>ll b<X> f<X>ll<X>w<X>d b<X> <X> w<X>k<X>nd <X>f str<X>t<X>g<X> s<X>ss<X>ns f<X>r tr<X>mp <X>nd r<X>p<X>bl<X>c<X>n l<X>d<X>rs <X>n j<X>n. 6 <X>nd 7, th<X> wh<X>t<X> h<X>s<X> s<X>d. tr<X>mp w<X>s <X>ls<X> sch<X>d<X>l<X>d t<X> m<X>t <X>n s<X>nd<X> w<X>th fl<X>r<X>d<X> r<X>p<X>bl<X>c<X>n g<X>v<X>rn<X>r r<X>ck sc<X>tt, wh<X> w<X>nts m<X>r<X> <X>m<X>rg<X>nc<X> <X>d. th<X> h<X>s<X> h<X>s p<X>ss<X>d <X>n $81 b<X>ll<X>n <X>d p<X>ck<X>g<X> <X>ft<X>r h<X>rr<X>c<X>n<X>s <X>n fl<X>r<X>d<X>, t<X>x<X>s <X>nd p<X>rt<X> r<X>c<X>, <X>nd w<X>ldf<X>r<X>s <X>n c<X>l<X>f<X>rn<X>. th<X> p<X>ck<X>g<X> f<X>r <X>xc<X>d<X>d th<X> $44 b<X>ll<X>n r<X>q<X>st<X>d b<X> th<X> tr<X>mp <X>dm<X>n<X>str<X>t<X>n. th<X> s<X>n<X>t<X> h<X>s n<X>t <X>t v<X>t<X>d <X>n th<X> <X>d. \n",
            "1290\n"
          ],
          "name": "stdout"
        }
      ]
    },
    {
      "cell_type": "code",
      "metadata": {
        "colab": {
          "base_uri": "https://localhost:8080/"
        },
        "id": "97CDeNDp0Glm",
        "outputId": "f7aa78cc-883c-4012-834d-a2dd7acb3e23"
      },
      "source": [
        "KincaidFAKE = 206.835 - (1.015*(PalabrasF/OracionesF)) - 84.6*(SilabasF/PalabrasF)\n",
        "print(\"Indice Flech-Kincaid Es:\" , KincaidFAKE)"
      ],
      "execution_count": null,
      "outputs": [
        {
          "output_type": "stream",
          "text": [
            "Indice Flech-Kincaid Es: 101.96941701430028\n"
          ],
          "name": "stdout"
        }
      ]
    },
    {
      "cell_type": "code",
      "metadata": {
        "colab": {
          "base_uri": "https://localhost:8080/"
        },
        "id": "OZCY1SUW6nKJ",
        "outputId": "31e99a03-7c2b-4e39-def6-dfd75ebe27f9"
      },
      "source": [
        "KincaidREAL = 206.835 - (1.015*(PalabrasR/OracionesR)) - 84.6*(SilabasR/PalabrasR)\n",
        "print(\"Indice Flech-Kincaid Es:\" , KincaidREAL)"
      ],
      "execution_count": null,
      "outputs": [
        {
          "output_type": "stream",
          "text": [
            "Indice Flech-Kincaid Es: 83.32694151287288\n"
          ],
          "name": "stdout"
        }
      ]
    }
  ]
}